{
 "cells": [
  {
   "cell_type": "code",
   "execution_count": 1,
   "metadata": {},
   "outputs": [],
   "source": [
    "import pandas as pd\n",
    "import numpy as np\n",
    "import random\n",
    "import matplotlib.pyplot as plt\n",
    "import ast\n",
    "import nltk\n",
    "from nltk.sentiment.vader import SentimentIntensityAnalyzer"
   ]
  },
  {
   "cell_type": "markdown",
   "metadata": {},
   "source": [
    "### **Analizando la tabla user_items**"
   ]
  },
  {
   "cell_type": "code",
   "execution_count": 2,
   "metadata": {},
   "outputs": [
    {
     "data": {
      "text/html": [
       "<div>\n",
       "<style scoped>\n",
       "    .dataframe tbody tr th:only-of-type {\n",
       "        vertical-align: middle;\n",
       "    }\n",
       "\n",
       "    .dataframe tbody tr th {\n",
       "        vertical-align: top;\n",
       "    }\n",
       "\n",
       "    .dataframe thead th {\n",
       "        text-align: right;\n",
       "    }\n",
       "</style>\n",
       "<table border=\"1\" class=\"dataframe\">\n",
       "  <thead>\n",
       "    <tr style=\"text-align: right;\">\n",
       "      <th></th>\n",
       "      <th>item_id</th>\n",
       "      <th>item_name</th>\n",
       "      <th>playtime_forever</th>\n",
       "      <th>playtime_2weeks</th>\n",
       "      <th>user_id</th>\n",
       "      <th>items_count</th>\n",
       "      <th>steam_id</th>\n",
       "      <th>user_url</th>\n",
       "    </tr>\n",
       "  </thead>\n",
       "  <tbody>\n",
       "    <tr>\n",
       "      <th>0</th>\n",
       "      <td>10</td>\n",
       "      <td>Counter-Strike</td>\n",
       "      <td>6.0</td>\n",
       "      <td>0.0</td>\n",
       "      <td>76561197970982479</td>\n",
       "      <td>277</td>\n",
       "      <td>76561197970982479</td>\n",
       "      <td>http://steamcommunity.com/profiles/76561197970...</td>\n",
       "    </tr>\n",
       "    <tr>\n",
       "      <th>1</th>\n",
       "      <td>20</td>\n",
       "      <td>Team Fortress Classic</td>\n",
       "      <td>0.0</td>\n",
       "      <td>0.0</td>\n",
       "      <td>76561197970982479</td>\n",
       "      <td>277</td>\n",
       "      <td>76561197970982479</td>\n",
       "      <td>http://steamcommunity.com/profiles/76561197970...</td>\n",
       "    </tr>\n",
       "    <tr>\n",
       "      <th>2</th>\n",
       "      <td>30</td>\n",
       "      <td>Day of Defeat</td>\n",
       "      <td>7.0</td>\n",
       "      <td>0.0</td>\n",
       "      <td>76561197970982479</td>\n",
       "      <td>277</td>\n",
       "      <td>76561197970982479</td>\n",
       "      <td>http://steamcommunity.com/profiles/76561197970...</td>\n",
       "    </tr>\n",
       "    <tr>\n",
       "      <th>3</th>\n",
       "      <td>40</td>\n",
       "      <td>Deathmatch Classic</td>\n",
       "      <td>0.0</td>\n",
       "      <td>0.0</td>\n",
       "      <td>76561197970982479</td>\n",
       "      <td>277</td>\n",
       "      <td>76561197970982479</td>\n",
       "      <td>http://steamcommunity.com/profiles/76561197970...</td>\n",
       "    </tr>\n",
       "    <tr>\n",
       "      <th>4</th>\n",
       "      <td>50</td>\n",
       "      <td>Half-Life: Opposing Force</td>\n",
       "      <td>0.0</td>\n",
       "      <td>0.0</td>\n",
       "      <td>76561197970982479</td>\n",
       "      <td>277</td>\n",
       "      <td>76561197970982479</td>\n",
       "      <td>http://steamcommunity.com/profiles/76561197970...</td>\n",
       "    </tr>\n",
       "    <tr>\n",
       "      <th>...</th>\n",
       "      <td>...</td>\n",
       "      <td>...</td>\n",
       "      <td>...</td>\n",
       "      <td>...</td>\n",
       "      <td>...</td>\n",
       "      <td>...</td>\n",
       "      <td>...</td>\n",
       "      <td>...</td>\n",
       "    </tr>\n",
       "    <tr>\n",
       "      <th>5153204</th>\n",
       "      <td>346330</td>\n",
       "      <td>BrainBread 2</td>\n",
       "      <td>0.0</td>\n",
       "      <td>0.0</td>\n",
       "      <td>76561198329548331</td>\n",
       "      <td>7</td>\n",
       "      <td>76561198329548331</td>\n",
       "      <td>http://steamcommunity.com/profiles/76561198329...</td>\n",
       "    </tr>\n",
       "    <tr>\n",
       "      <th>5153205</th>\n",
       "      <td>373330</td>\n",
       "      <td>All Is Dust</td>\n",
       "      <td>0.0</td>\n",
       "      <td>0.0</td>\n",
       "      <td>76561198329548331</td>\n",
       "      <td>7</td>\n",
       "      <td>76561198329548331</td>\n",
       "      <td>http://steamcommunity.com/profiles/76561198329...</td>\n",
       "    </tr>\n",
       "    <tr>\n",
       "      <th>5153206</th>\n",
       "      <td>388490</td>\n",
       "      <td>One Way To Die: Steam Edition</td>\n",
       "      <td>3.0</td>\n",
       "      <td>3.0</td>\n",
       "      <td>76561198329548331</td>\n",
       "      <td>7</td>\n",
       "      <td>76561198329548331</td>\n",
       "      <td>http://steamcommunity.com/profiles/76561198329...</td>\n",
       "    </tr>\n",
       "    <tr>\n",
       "      <th>5153207</th>\n",
       "      <td>521570</td>\n",
       "      <td>You Have 10 Seconds 2</td>\n",
       "      <td>4.0</td>\n",
       "      <td>4.0</td>\n",
       "      <td>76561198329548331</td>\n",
       "      <td>7</td>\n",
       "      <td>76561198329548331</td>\n",
       "      <td>http://steamcommunity.com/profiles/76561198329...</td>\n",
       "    </tr>\n",
       "    <tr>\n",
       "      <th>5153208</th>\n",
       "      <td>519140</td>\n",
       "      <td>Minds Eyes</td>\n",
       "      <td>3.0</td>\n",
       "      <td>3.0</td>\n",
       "      <td>76561198329548331</td>\n",
       "      <td>7</td>\n",
       "      <td>76561198329548331</td>\n",
       "      <td>http://steamcommunity.com/profiles/76561198329...</td>\n",
       "    </tr>\n",
       "  </tbody>\n",
       "</table>\n",
       "<p>5153209 rows × 8 columns</p>\n",
       "</div>"
      ],
      "text/plain": [
       "        item_id                      item_name  playtime_forever  \\\n",
       "0            10                 Counter-Strike               6.0   \n",
       "1            20          Team Fortress Classic               0.0   \n",
       "2            30                  Day of Defeat               7.0   \n",
       "3            40             Deathmatch Classic               0.0   \n",
       "4            50      Half-Life: Opposing Force               0.0   \n",
       "...         ...                            ...               ...   \n",
       "5153204  346330                   BrainBread 2               0.0   \n",
       "5153205  373330                    All Is Dust               0.0   \n",
       "5153206  388490  One Way To Die: Steam Edition               3.0   \n",
       "5153207  521570          You Have 10 Seconds 2               4.0   \n",
       "5153208  519140                     Minds Eyes               3.0   \n",
       "\n",
       "         playtime_2weeks            user_id  items_count           steam_id  \\\n",
       "0                    0.0  76561197970982479          277  76561197970982479   \n",
       "1                    0.0  76561197970982479          277  76561197970982479   \n",
       "2                    0.0  76561197970982479          277  76561197970982479   \n",
       "3                    0.0  76561197970982479          277  76561197970982479   \n",
       "4                    0.0  76561197970982479          277  76561197970982479   \n",
       "...                  ...                ...          ...                ...   \n",
       "5153204              0.0  76561198329548331            7  76561198329548331   \n",
       "5153205              0.0  76561198329548331            7  76561198329548331   \n",
       "5153206              3.0  76561198329548331            7  76561198329548331   \n",
       "5153207              4.0  76561198329548331            7  76561198329548331   \n",
       "5153208              3.0  76561198329548331            7  76561198329548331   \n",
       "\n",
       "                                                  user_url  \n",
       "0        http://steamcommunity.com/profiles/76561197970...  \n",
       "1        http://steamcommunity.com/profiles/76561197970...  \n",
       "2        http://steamcommunity.com/profiles/76561197970...  \n",
       "3        http://steamcommunity.com/profiles/76561197970...  \n",
       "4        http://steamcommunity.com/profiles/76561197970...  \n",
       "...                                                    ...  \n",
       "5153204  http://steamcommunity.com/profiles/76561198329...  \n",
       "5153205  http://steamcommunity.com/profiles/76561198329...  \n",
       "5153206  http://steamcommunity.com/profiles/76561198329...  \n",
       "5153207  http://steamcommunity.com/profiles/76561198329...  \n",
       "5153208  http://steamcommunity.com/profiles/76561198329...  \n",
       "\n",
       "[5153209 rows x 8 columns]"
      ]
     },
     "execution_count": 2,
     "metadata": {},
     "output_type": "execute_result"
    }
   ],
   "source": [
    "items=pd.read_parquet(\"datasets/users_items.parquet\")\n",
    "items"
   ]
  },
  {
   "cell_type": "markdown",
   "metadata": {},
   "source": [
    "la tabla consiste en la informacion de cada usario, tiene informacion de su id del link de su perfil y de la informaciond e todos los juegos que ha jugado en una tabla anidada.\n",
    "\n",
    "vamos a eliminar los duplicados ya que no los necesitamos y podrian afectar posible analisis mas adelante"
   ]
  },
  {
   "cell_type": "code",
   "execution_count": 3,
   "metadata": {},
   "outputs": [],
   "source": [
    "items.drop(items[items.duplicated()].index,inplace=True)"
   ]
  },
  {
   "cell_type": "code",
   "execution_count": 4,
   "metadata": {},
   "outputs": [
    {
     "name": "stdout",
     "output_type": "stream",
     "text": [
      "<class 'pandas.core.frame.DataFrame'>\n",
      "Index: 5094105 entries, 0 to 5153208\n",
      "Data columns (total 8 columns):\n",
      " #   Column            Dtype  \n",
      "---  ------            -----  \n",
      " 0   item_id           object \n",
      " 1   item_name         object \n",
      " 2   playtime_forever  float64\n",
      " 3   playtime_2weeks   float64\n",
      " 4   user_id           object \n",
      " 5   items_count       int64  \n",
      " 6   steam_id          object \n",
      " 7   user_url          object \n",
      "dtypes: float64(2), int64(1), object(5)\n",
      "memory usage: 349.8+ MB\n"
     ]
    }
   ],
   "source": [
    "items.info()"
   ]
  },
  {
   "cell_type": "markdown",
   "metadata": {},
   "source": [
    " se crea una tabla con la cantidad de items de cada usuario y la cantidad de items que viene en la tabla \"items_count\""
   ]
  },
  {
   "cell_type": "code",
   "execution_count": 5,
   "metadata": {},
   "outputs": [],
   "source": [
    "tab=items[[\"user_id\",\"item_id\",\"items_count\"]].groupby([\"user_id\",\"items_count\"]).agg({\"item_id\":\"count\"}).reset_index()"
   ]
  },
  {
   "cell_type": "markdown",
   "metadata": {},
   "source": [
    "solo 16 jugadores tenian el campo items_count incorrecto, por eso podemos borrar ese campo ya que no termina ser preciso"
   ]
  },
  {
   "cell_type": "code",
   "execution_count": 6,
   "metadata": {},
   "outputs": [
    {
     "data": {
      "text/html": [
       "<div>\n",
       "<style scoped>\n",
       "    .dataframe tbody tr th:only-of-type {\n",
       "        vertical-align: middle;\n",
       "    }\n",
       "\n",
       "    .dataframe tbody tr th {\n",
       "        vertical-align: top;\n",
       "    }\n",
       "\n",
       "    .dataframe thead th {\n",
       "        text-align: right;\n",
       "    }\n",
       "</style>\n",
       "<table border=\"1\" class=\"dataframe\">\n",
       "  <thead>\n",
       "    <tr style=\"text-align: right;\">\n",
       "      <th></th>\n",
       "      <th>user_id</th>\n",
       "      <th>items_count</th>\n",
       "      <th>item_id</th>\n",
       "    </tr>\n",
       "  </thead>\n",
       "  <tbody>\n",
       "    <tr>\n",
       "      <th>13379</th>\n",
       "      <td>76561198050680344</td>\n",
       "      <td>125</td>\n",
       "      <td>126</td>\n",
       "    </tr>\n",
       "    <tr>\n",
       "      <th>20211</th>\n",
       "      <td>76561198064484479</td>\n",
       "      <td>336</td>\n",
       "      <td>337</td>\n",
       "    </tr>\n",
       "    <tr>\n",
       "      <th>20519</th>\n",
       "      <td>76561198064956087</td>\n",
       "      <td>55</td>\n",
       "      <td>56</td>\n",
       "    </tr>\n",
       "    <tr>\n",
       "      <th>26788</th>\n",
       "      <td>76561198072861800</td>\n",
       "      <td>7</td>\n",
       "      <td>9</td>\n",
       "    </tr>\n",
       "    <tr>\n",
       "      <th>30554</th>\n",
       "      <td>76561198079079942</td>\n",
       "      <td>121</td>\n",
       "      <td>122</td>\n",
       "    </tr>\n",
       "    <tr>\n",
       "      <th>31340</th>\n",
       "      <td>76561198080450686</td>\n",
       "      <td>30</td>\n",
       "      <td>32</td>\n",
       "    </tr>\n",
       "    <tr>\n",
       "      <th>32083</th>\n",
       "      <td>76561198081666970</td>\n",
       "      <td>46</td>\n",
       "      <td>48</td>\n",
       "    </tr>\n",
       "    <tr>\n",
       "      <th>49236</th>\n",
       "      <td>Jojibu</td>\n",
       "      <td>186</td>\n",
       "      <td>187</td>\n",
       "    </tr>\n",
       "    <tr>\n",
       "      <th>49984</th>\n",
       "      <td>Letachal</td>\n",
       "      <td>412</td>\n",
       "      <td>413</td>\n",
       "    </tr>\n",
       "    <tr>\n",
       "      <th>50312</th>\n",
       "      <td>MIMMATA</td>\n",
       "      <td>283</td>\n",
       "      <td>285</td>\n",
       "    </tr>\n",
       "    <tr>\n",
       "      <th>53460</th>\n",
       "      <td>Specimen11</td>\n",
       "      <td>6</td>\n",
       "      <td>7</td>\n",
       "    </tr>\n",
       "    <tr>\n",
       "      <th>57452</th>\n",
       "      <td>bwolf7803</td>\n",
       "      <td>213</td>\n",
       "      <td>216</td>\n",
       "    </tr>\n",
       "    <tr>\n",
       "      <th>57857</th>\n",
       "      <td>chocolatemanj</td>\n",
       "      <td>20</td>\n",
       "      <td>21</td>\n",
       "    </tr>\n",
       "    <tr>\n",
       "      <th>59635</th>\n",
       "      <td>everybodylovesrayman</td>\n",
       "      <td>79</td>\n",
       "      <td>81</td>\n",
       "    </tr>\n",
       "    <tr>\n",
       "      <th>67362</th>\n",
       "      <td>sergioxks1</td>\n",
       "      <td>228</td>\n",
       "      <td>229</td>\n",
       "    </tr>\n",
       "    <tr>\n",
       "      <th>69831</th>\n",
       "      <td>viceflin</td>\n",
       "      <td>38</td>\n",
       "      <td>39</td>\n",
       "    </tr>\n",
       "  </tbody>\n",
       "</table>\n",
       "</div>"
      ],
      "text/plain": [
       "                    user_id  items_count  item_id\n",
       "13379     76561198050680344          125      126\n",
       "20211     76561198064484479          336      337\n",
       "20519     76561198064956087           55       56\n",
       "26788     76561198072861800            7        9\n",
       "30554     76561198079079942          121      122\n",
       "31340     76561198080450686           30       32\n",
       "32083     76561198081666970           46       48\n",
       "49236                Jojibu          186      187\n",
       "49984              Letachal          412      413\n",
       "50312               MIMMATA          283      285\n",
       "53460            Specimen11            6        7\n",
       "57452             bwolf7803          213      216\n",
       "57857         chocolatemanj           20       21\n",
       "59635  everybodylovesrayman           79       81\n",
       "67362            sergioxks1          228      229\n",
       "69831              viceflin           38       39"
      ]
     },
     "execution_count": 6,
     "metadata": {},
     "output_type": "execute_result"
    }
   ],
   "source": [
    "#hay la cantidad de registros \n",
    "mask=tab[\"item_id\"]!=tab[\"items_count\"]\n",
    "tab[mask]"
   ]
  },
  {
   "cell_type": "code",
   "execution_count": 7,
   "metadata": {},
   "outputs": [],
   "source": [
    "items.drop(columns=[\"items_count\",\"playtime_2weeks\",\"user_url\"],inplace=True)"
   ]
  },
  {
   "cell_type": "markdown",
   "metadata": {},
   "source": [
    "tambien se puede notar en la tabla principal que los campos user_id y steam_id que figuran ahi son iguales\n",
    "\n",
    "despues de ver la diferencia de tamanio de la tabla original con la filtrada se ve que hay mucha diferencia lo que significa que en muchos casos los campos son iguales y otros muchos casos son diferentes"
   ]
  },
  {
   "cell_type": "code",
   "execution_count": 8,
   "metadata": {},
   "outputs": [
    {
     "name": "stdout",
     "output_type": "stream",
     "text": [
      "cantidad de diferentes:\t 2914519\n",
      "cantidad de iguales:\t 2179586\n"
     ]
    }
   ],
   "source": [
    "mask=items[\"steam_id\"]==items[\"user_id\"]\n",
    "print(\"cantidad de diferentes:\\t\",len(items)-len(items[mask][[\"steam_id\",\"user_id\"]]))\n",
    "\n",
    "mask=items[\"steam_id\"]!=items[\"user_id\"]\n",
    "print(\"cantidad de iguales:\\t\",len(items)-len(items[mask][[\"steam_id\",\"user_id\"]]))"
   ]
  },
  {
   "cell_type": "markdown",
   "metadata": {},
   "source": [
    "vemos los tipos de datos de los campos para ver si hay alguno que se tenga que cambiar"
   ]
  },
  {
   "cell_type": "code",
   "execution_count": 9,
   "metadata": {},
   "outputs": [
    {
     "name": "stdout",
     "output_type": "stream",
     "text": [
      "<class 'pandas.core.frame.DataFrame'>\n",
      "Index: 5094105 entries, 0 to 5153208\n",
      "Data columns (total 5 columns):\n",
      " #   Column            Dtype  \n",
      "---  ------            -----  \n",
      " 0   item_id           object \n",
      " 1   item_name         object \n",
      " 2   playtime_forever  float64\n",
      " 3   user_id           object \n",
      " 4   steam_id          object \n",
      "dtypes: float64(1), object(4)\n",
      "memory usage: 233.2+ MB\n"
     ]
    }
   ],
   "source": [
    "items.info()"
   ]
  },
  {
   "cell_type": "markdown",
   "metadata": {},
   "source": [
    "aqui se ve que item_id es de tipo string pero lo vamos a cambiar  a entero, de resto no hay nada que cambiar"
   ]
  },
  {
   "cell_type": "code",
   "execution_count": 10,
   "metadata": {},
   "outputs": [],
   "source": [
    "items[\"item_id\"]=items[\"item_id\"].apply(lambda x:int(x))"
   ]
  },
  {
   "cell_type": "markdown",
   "metadata": {},
   "source": [
    "### **Analizando tabla reviews**"
   ]
  },
  {
   "cell_type": "code",
   "execution_count": 11,
   "metadata": {},
   "outputs": [
    {
     "data": {
      "text/html": [
       "<div>\n",
       "<style scoped>\n",
       "    .dataframe tbody tr th:only-of-type {\n",
       "        vertical-align: middle;\n",
       "    }\n",
       "\n",
       "    .dataframe tbody tr th {\n",
       "        vertical-align: top;\n",
       "    }\n",
       "\n",
       "    .dataframe thead th {\n",
       "        text-align: right;\n",
       "    }\n",
       "</style>\n",
       "<table border=\"1\" class=\"dataframe\">\n",
       "  <thead>\n",
       "    <tr style=\"text-align: right;\">\n",
       "      <th></th>\n",
       "      <th>funny</th>\n",
       "      <th>posted</th>\n",
       "      <th>last_edited</th>\n",
       "      <th>item_id</th>\n",
       "      <th>helpful</th>\n",
       "      <th>recommend</th>\n",
       "      <th>review</th>\n",
       "      <th>user_id</th>\n",
       "      <th>user_url</th>\n",
       "    </tr>\n",
       "  </thead>\n",
       "  <tbody>\n",
       "    <tr>\n",
       "      <th>0</th>\n",
       "      <td>NaN</td>\n",
       "      <td>Posted November 5, 2011.</td>\n",
       "      <td>NaN</td>\n",
       "      <td>1250</td>\n",
       "      <td>No ratings yet</td>\n",
       "      <td>True</td>\n",
       "      <td>Simple yet with great replayability. In my opi...</td>\n",
       "      <td>76561197970982479</td>\n",
       "      <td>http://steamcommunity.com/profiles/76561197970...</td>\n",
       "    </tr>\n",
       "    <tr>\n",
       "      <th>1</th>\n",
       "      <td>NaN</td>\n",
       "      <td>Posted July 15, 2011.</td>\n",
       "      <td>NaN</td>\n",
       "      <td>22200</td>\n",
       "      <td>No ratings yet</td>\n",
       "      <td>True</td>\n",
       "      <td>It's unique and worth a playthrough.</td>\n",
       "      <td>76561197970982479</td>\n",
       "      <td>http://steamcommunity.com/profiles/76561197970...</td>\n",
       "    </tr>\n",
       "    <tr>\n",
       "      <th>2</th>\n",
       "      <td>NaN</td>\n",
       "      <td>Posted April 21, 2011.</td>\n",
       "      <td>NaN</td>\n",
       "      <td>43110</td>\n",
       "      <td>No ratings yet</td>\n",
       "      <td>True</td>\n",
       "      <td>Great atmosphere. The gunplay can be a bit chu...</td>\n",
       "      <td>76561197970982479</td>\n",
       "      <td>http://steamcommunity.com/profiles/76561197970...</td>\n",
       "    </tr>\n",
       "    <tr>\n",
       "      <th>3</th>\n",
       "      <td>NaN</td>\n",
       "      <td>Posted June 24, 2014.</td>\n",
       "      <td>NaN</td>\n",
       "      <td>251610</td>\n",
       "      <td>15 of 20 people (75%) found this review helpful</td>\n",
       "      <td>True</td>\n",
       "      <td>I know what you think when you see this title ...</td>\n",
       "      <td>js41637</td>\n",
       "      <td>http://steamcommunity.com/id/js41637</td>\n",
       "    </tr>\n",
       "  </tbody>\n",
       "</table>\n",
       "</div>"
      ],
      "text/plain": [
       "  funny                    posted last_edited  item_id  \\\n",
       "0   NaN  Posted November 5, 2011.         NaN     1250   \n",
       "1   NaN     Posted July 15, 2011.         NaN    22200   \n",
       "2   NaN    Posted April 21, 2011.         NaN    43110   \n",
       "3   NaN     Posted June 24, 2014.         NaN   251610   \n",
       "\n",
       "                                           helpful  recommend  \\\n",
       "0                                   No ratings yet       True   \n",
       "1                                   No ratings yet       True   \n",
       "2                                   No ratings yet       True   \n",
       "3  15 of 20 people (75%) found this review helpful       True   \n",
       "\n",
       "                                              review            user_id  \\\n",
       "0  Simple yet with great replayability. In my opi...  76561197970982479   \n",
       "1               It's unique and worth a playthrough.  76561197970982479   \n",
       "2  Great atmosphere. The gunplay can be a bit chu...  76561197970982479   \n",
       "3  I know what you think when you see this title ...            js41637   \n",
       "\n",
       "                                            user_url  \n",
       "0  http://steamcommunity.com/profiles/76561197970...  \n",
       "1  http://steamcommunity.com/profiles/76561197970...  \n",
       "2  http://steamcommunity.com/profiles/76561197970...  \n",
       "3               http://steamcommunity.com/id/js41637  "
      ]
     },
     "execution_count": 11,
     "metadata": {},
     "output_type": "execute_result"
    }
   ],
   "source": [
    "reviews=pd.read_csv(\"datasets/user_reviews.csv\",sep=\";\")\n",
    "reviews[:4]"
   ]
  },
  {
   "cell_type": "markdown",
   "metadata": {},
   "source": [
    "vamos a empezar a analizar los nulos"
   ]
  },
  {
   "cell_type": "code",
   "execution_count": 12,
   "metadata": {},
   "outputs": [
    {
     "name": "stdout",
     "output_type": "stream",
     "text": [
      "funny          51154\n",
      "posted             0\n",
      "last_edited    53165\n",
      "item_id            0\n",
      "helpful            0\n",
      "recommend          0\n",
      "review            30\n",
      "user_id            0\n",
      "user_url           0\n",
      "dtype: int64\n",
      "funny          0.862558\n",
      "posted         0.000000\n",
      "last_edited    0.896467\n",
      "item_id        0.000000\n",
      "helpful        0.000000\n",
      "recommend      0.000000\n",
      "review         0.000506\n",
      "user_id        0.000000\n",
      "user_url       0.000000\n",
      "dtype: float64\n"
     ]
    }
   ],
   "source": [
    "#cantidad\n",
    "#print(len(reviews)-reviews.isna().sum())\n",
    "print(reviews.isna().sum())\n",
    "#porcentaje\n",
    "print(reviews.isna().mean())"
   ]
  },
  {
   "cell_type": "markdown",
   "metadata": {},
   "source": [
    "hay algunos duplicados, con la misma dinamica se van a eliminar"
   ]
  },
  {
   "cell_type": "code",
   "execution_count": 13,
   "metadata": {},
   "outputs": [
    {
     "data": {
      "text/plain": [
       "874"
      ]
     },
     "execution_count": 13,
     "metadata": {},
     "output_type": "execute_result"
    }
   ],
   "source": [
    "len(reviews[reviews.duplicated()])"
   ]
  },
  {
   "cell_type": "code",
   "execution_count": 14,
   "metadata": {},
   "outputs": [],
   "source": [
    "reviews.drop_duplicates(inplace=True)"
   ]
  },
  {
   "cell_type": "markdown",
   "metadata": {},
   "source": [
    "Leyendo las funciones que se vana a desarrolar de la api, la funcion UserRecommend(int anio) devuelve los 3 usuario mas recomendados ese anio y se toma en cuenta ek campo recommend y sentyment_analysis(que es el campo que se le va aplicar el analisis de sentimiento sustituyedo a review), posted es la fecha en la que se hizo la critica pero hay otro campo que se llama last_edited que es la ultima modificacion que se le hizo a la critica, para el objetivo de la api se debe reemplazar los registros de posted por los no nulos de last_edited, despues de eso se puede eliminar este campo, ya no va a ser de utilidad, el campo funny se va a quedar, puede servir para el modelo de aprendizaje automatico "
   ]
  },
  {
   "cell_type": "code",
   "execution_count": 15,
   "metadata": {},
   "outputs": [],
   "source": [
    "mask=~reviews[\"last_edited\"].isna()\n",
    "indices=reviews[mask].index\n",
    "reviews.loc[indices,\"posted\"]=reviews.loc[indices,\"last_edited\"]"
   ]
  },
  {
   "cell_type": "markdown",
   "metadata": {},
   "source": [
    "Una vez hecho eso hay que cambiar el formato de las fechas\n",
    "el primer formato que podemos cambiar es este \"Posted November 5, 2011.\" primero va Posted luego el mes, luego el dia, una coma y el anio con un punto al final."
   ]
  },
  {
   "cell_type": "code",
   "execution_count": 16,
   "metadata": {},
   "outputs": [
    {
     "data": {
      "text/plain": [
       "0    Posted November 5, 2011.\n",
       "1       Posted July 15, 2011.\n",
       "2      Posted April 21, 2011.\n",
       "Name: posted, dtype: object"
      ]
     },
     "execution_count": 16,
     "metadata": {},
     "output_type": "execute_result"
    }
   ],
   "source": [
    "reviews[\"posted\"][:3]"
   ]
  },
  {
   "cell_type": "code",
   "execution_count": 17,
   "metadata": {},
   "outputs": [],
   "source": [
    "meses=['January', 'February', 'March', 'April', 'May', 'June', 'July', 'August', 'September', 'October', 'November', 'December']\n",
    "\n",
    "def formato1(fecha):\n",
    "    try:\n",
    "        fecha=fecha.strip(\"Posted \").strip(\".\")\n",
    "        lista=fecha.split(\", \")\n",
    "        mes=lista[0].split(\" \")[0]\n",
    "        mes=str(meses.index(mes)+1)\n",
    "        if len(mes)<2:\n",
    "            mes=\"0\"+mes\n",
    "        dia=lista[0].split(\" \")[1]\n",
    "        if len(dia)<2:\n",
    "            dia=\"0\"+dia\n",
    "        year=lista[1]\n",
    "        \n",
    "        return dia+\"/\"+mes+\"/\"+year\n",
    "    except:\n",
    "        return fecha\n",
    "    \n",
    "def formato2(fecha):\n",
    "    try:\n",
    "        fecha=fecha.strip(\"Last edited \").strip(\".\")\n",
    "        lista=fecha.split(\", \")\n",
    "        mes=lista[0].split(\" \")[0]\n",
    "        mes=str(meses.index(mes)+1)\n",
    "        if len(mes)<2:\n",
    "            mes=\"0\"+mes\n",
    "        dia=lista[0].split(\" \")[1]\n",
    "        if len(dia)<2:\n",
    "            dia=\"0\"+dia\n",
    "        year=lista[1]\n",
    "        \n",
    "        return dia+\"/\"+mes+\"/\"+year\n",
    "    except:\n",
    "        return fecha\n",
    "    \n",
    "def formato3(fecha):\n",
    "    try:\n",
    "        mes=fecha.split(\" \")[0]\n",
    "        mes=str(meses.index(mes)+1)\n",
    "        if len(mes)<2:\n",
    "            mes=\"0\"+mes\n",
    "        dia=fecha.split(\" \")[1]\n",
    "        if len(dia)<2:\n",
    "            dia=\"0\"+dia\n",
    "            \n",
    "        return dia+\"/\"+mes\n",
    "    except:\n",
    "        return fecha"
   ]
  },
  {
   "cell_type": "code",
   "execution_count": 18,
   "metadata": {},
   "outputs": [],
   "source": [
    "reviews[\"posted\"]=reviews[\"posted\"].apply(lambda x:formato1(x))\n",
    "reviews[\"posted\"]=reviews[\"posted\"].apply(lambda x:formato2(x))\n",
    "reviews[\"posted\"]=reviews[\"posted\"].apply(lambda x:formato3(x))"
   ]
  },
  {
   "cell_type": "code",
   "execution_count": 19,
   "metadata": {},
   "outputs": [],
   "source": [
    "reviews[reviews[\"posted\"].apply(lambda x: \"/\" not in x)][\"posted\"]\n",
    "reviews.drop(columns=[\"last_edited\"],inplace=True)"
   ]
  },
  {
   "cell_type": "code",
   "execution_count": 20,
   "metadata": {},
   "outputs": [
    {
     "data": {
      "text/plain": [
       "0        05/11/2011\n",
       "1        15/07/2011\n",
       "2        21/04/2011\n",
       "3        24/06/2014\n",
       "4        08/09/2013\n",
       "            ...    \n",
       "59300         10/07\n",
       "59301         08/07\n",
       "59302         03/07\n",
       "59303         20/07\n",
       "59304         02/07\n",
       "Name: posted, Length: 58431, dtype: object"
      ]
     },
     "execution_count": 20,
     "metadata": {},
     "output_type": "execute_result"
    }
   ],
   "source": [
    "reviews[\"posted\"]"
   ]
  },
  {
   "cell_type": "markdown",
   "metadata": {},
   "source": [
    "hay fechas que no tienen el anio y no nos interesan por lo tanto vamos a anular estos registros ya que no nos sirven para\n",
    "las funciones de la api, y no vamos a eliminar los registros, porque los necesitamos para el modelo de aprendizaje"
   ]
  },
  {
   "cell_type": "code",
   "execution_count": 21,
   "metadata": {},
   "outputs": [
    {
     "data": {
      "text/plain": [
       "10771"
      ]
     },
     "execution_count": 21,
     "metadata": {},
     "output_type": "execute_result"
    }
   ],
   "source": [
    "mask=reviews[\"posted\"].apply(lambda x:x.count(\"/\")<2)\n",
    "len(reviews[mask][\"posted\"])"
   ]
  },
  {
   "cell_type": "code",
   "execution_count": 22,
   "metadata": {},
   "outputs": [],
   "source": [
    "reviews.loc[mask,\"posted\"]=pd.NA"
   ]
  },
  {
   "cell_type": "markdown",
   "metadata": {},
   "source": [
    "dudo mucho que la columna helpful nos sirva para el modelo, por lo tanto la vamos a eliminar "
   ]
  },
  {
   "cell_type": "code",
   "execution_count": 23,
   "metadata": {},
   "outputs": [],
   "source": [
    "reviews.drop(columns=[\"helpful\"],inplace=True)"
   ]
  },
  {
   "cell_type": "markdown",
   "metadata": {},
   "source": [
    "nos queda hacer el analisis de sentimiento"
   ]
  },
  {
   "cell_type": "code",
   "execution_count": 24,
   "metadata": {},
   "outputs": [
    {
     "name": "stderr",
     "output_type": "stream",
     "text": [
      "[nltk_data] Downloading package vader_lexicon to\n",
      "[nltk_data]     C:\\Users\\leuma\\AppData\\Roaming\\nltk_data...\n",
      "[nltk_data]   Package vader_lexicon is already up-to-date!\n"
     ]
    }
   ],
   "source": [
    "nltk.download('vader_lexicon')\n",
    "sia = SentimentIntensityAnalyzer()\n",
    "\n",
    "def polaridad(indice):\n",
    "    if indice>-1 and indice<(2/3-1):\n",
    "        return 0\n",
    "    elif indice>(2/3-1) and indice<(1-2/3):\n",
    "        return 1\n",
    "    elif indice>(1-2/3) and indice<1:\n",
    "        return 2\n",
    "    else:\n",
    "        return 1\n",
    "\n",
    "def aplicar_nlp(text):\n",
    "    return polaridad(sia.polarity_scores(text)[\"compound\"])\n",
    "    "
   ]
  },
  {
   "cell_type": "code",
   "execution_count": 25,
   "metadata": {},
   "outputs": [],
   "source": [
    "reviews[\"review\"].fillna(\"Unknow\",inplace=True)\n",
    "mask=reviews[\"review\"]!=\"Unknow\"\n",
    "reviews[\"sentiment_analysis\"]=reviews[\"review\"].apply(lambda x:aplicar_nlp(x))\n",
    "reviews.drop(columns=[\"review\",\"user_url\"],inplace=True)"
   ]
  },
  {
   "cell_type": "markdown",
   "metadata": {},
   "source": [
    "### **Analizando la tabla Steam Games**"
   ]
  },
  {
   "cell_type": "code",
   "execution_count": 26,
   "metadata": {},
   "outputs": [
    {
     "data": {
      "text/html": [
       "<div>\n",
       "<style scoped>\n",
       "    .dataframe tbody tr th:only-of-type {\n",
       "        vertical-align: middle;\n",
       "    }\n",
       "\n",
       "    .dataframe tbody tr th {\n",
       "        vertical-align: top;\n",
       "    }\n",
       "\n",
       "    .dataframe thead th {\n",
       "        text-align: right;\n",
       "    }\n",
       "</style>\n",
       "<table border=\"1\" class=\"dataframe\">\n",
       "  <thead>\n",
       "    <tr style=\"text-align: right;\">\n",
       "      <th></th>\n",
       "      <th>publisher</th>\n",
       "      <th>genres</th>\n",
       "      <th>app_name</th>\n",
       "      <th>title</th>\n",
       "      <th>url</th>\n",
       "      <th>release_date</th>\n",
       "      <th>tags</th>\n",
       "      <th>reviews_url</th>\n",
       "      <th>specs</th>\n",
       "      <th>price</th>\n",
       "      <th>early_access</th>\n",
       "      <th>id</th>\n",
       "      <th>developer</th>\n",
       "    </tr>\n",
       "  </thead>\n",
       "  <tbody>\n",
       "    <tr>\n",
       "      <th>0</th>\n",
       "      <td>Kotoshiro</td>\n",
       "      <td>['Action', 'Casual', 'Indie', 'Simulation', 'S...</td>\n",
       "      <td>Lost Summoner Kitty</td>\n",
       "      <td>Lost Summoner Kitty</td>\n",
       "      <td>http://store.steampowered.com/app/761140/Lost_...</td>\n",
       "      <td>2018-01-04</td>\n",
       "      <td>['Strategy', 'Action', 'Indie', 'Casual', 'Sim...</td>\n",
       "      <td>http://steamcommunity.com/app/761140/reviews/?...</td>\n",
       "      <td>['Single-player']</td>\n",
       "      <td>4.99</td>\n",
       "      <td>False</td>\n",
       "      <td>761140</td>\n",
       "      <td>Kotoshiro</td>\n",
       "    </tr>\n",
       "    <tr>\n",
       "      <th>1</th>\n",
       "      <td>Making Fun, Inc.</td>\n",
       "      <td>['Free to Play', 'Indie', 'RPG', 'Strategy']</td>\n",
       "      <td>Ironbound</td>\n",
       "      <td>Ironbound</td>\n",
       "      <td>http://store.steampowered.com/app/643980/Ironb...</td>\n",
       "      <td>2018-01-04</td>\n",
       "      <td>['Free to Play', 'Strategy', 'Indie', 'RPG', '...</td>\n",
       "      <td>http://steamcommunity.com/app/643980/reviews/?...</td>\n",
       "      <td>['Single-player', 'Multi-player', 'Online Mult...</td>\n",
       "      <td>Free To Play</td>\n",
       "      <td>False</td>\n",
       "      <td>643980</td>\n",
       "      <td>Secret Level SRL</td>\n",
       "    </tr>\n",
       "    <tr>\n",
       "      <th>2</th>\n",
       "      <td>Poolians.com</td>\n",
       "      <td>['Casual', 'Free to Play', 'Indie', 'Simulatio...</td>\n",
       "      <td>Real Pool 3D - Poolians</td>\n",
       "      <td>Real Pool 3D - Poolians</td>\n",
       "      <td>http://store.steampowered.com/app/670290/Real_...</td>\n",
       "      <td>2017-07-24</td>\n",
       "      <td>['Free to Play', 'Simulation', 'Sports', 'Casu...</td>\n",
       "      <td>http://steamcommunity.com/app/670290/reviews/?...</td>\n",
       "      <td>['Single-player', 'Multi-player', 'Online Mult...</td>\n",
       "      <td>Free to Play</td>\n",
       "      <td>False</td>\n",
       "      <td>670290</td>\n",
       "      <td>Poolians.com</td>\n",
       "    </tr>\n",
       "    <tr>\n",
       "      <th>3</th>\n",
       "      <td>彼岸领域</td>\n",
       "      <td>['Action', 'Adventure', 'Casual']</td>\n",
       "      <td>弹炸人2222</td>\n",
       "      <td>弹炸人2222</td>\n",
       "      <td>http://store.steampowered.com/app/767400/2222/</td>\n",
       "      <td>2017-12-07</td>\n",
       "      <td>['Action', 'Adventure', 'Casual']</td>\n",
       "      <td>http://steamcommunity.com/app/767400/reviews/?...</td>\n",
       "      <td>['Single-player']</td>\n",
       "      <td>0.99</td>\n",
       "      <td>False</td>\n",
       "      <td>767400</td>\n",
       "      <td>彼岸领域</td>\n",
       "    </tr>\n",
       "  </tbody>\n",
       "</table>\n",
       "</div>"
      ],
      "text/plain": [
       "          publisher                                             genres  \\\n",
       "0         Kotoshiro  ['Action', 'Casual', 'Indie', 'Simulation', 'S...   \n",
       "1  Making Fun, Inc.       ['Free to Play', 'Indie', 'RPG', 'Strategy']   \n",
       "2      Poolians.com  ['Casual', 'Free to Play', 'Indie', 'Simulatio...   \n",
       "3              彼岸领域                  ['Action', 'Adventure', 'Casual']   \n",
       "\n",
       "                  app_name                    title  \\\n",
       "0      Lost Summoner Kitty      Lost Summoner Kitty   \n",
       "1                Ironbound                Ironbound   \n",
       "2  Real Pool 3D - Poolians  Real Pool 3D - Poolians   \n",
       "3                  弹炸人2222                  弹炸人2222   \n",
       "\n",
       "                                                 url release_date  \\\n",
       "0  http://store.steampowered.com/app/761140/Lost_...   2018-01-04   \n",
       "1  http://store.steampowered.com/app/643980/Ironb...   2018-01-04   \n",
       "2  http://store.steampowered.com/app/670290/Real_...   2017-07-24   \n",
       "3     http://store.steampowered.com/app/767400/2222/   2017-12-07   \n",
       "\n",
       "                                                tags  \\\n",
       "0  ['Strategy', 'Action', 'Indie', 'Casual', 'Sim...   \n",
       "1  ['Free to Play', 'Strategy', 'Indie', 'RPG', '...   \n",
       "2  ['Free to Play', 'Simulation', 'Sports', 'Casu...   \n",
       "3                  ['Action', 'Adventure', 'Casual']   \n",
       "\n",
       "                                         reviews_url  \\\n",
       "0  http://steamcommunity.com/app/761140/reviews/?...   \n",
       "1  http://steamcommunity.com/app/643980/reviews/?...   \n",
       "2  http://steamcommunity.com/app/670290/reviews/?...   \n",
       "3  http://steamcommunity.com/app/767400/reviews/?...   \n",
       "\n",
       "                                               specs         price  \\\n",
       "0                                  ['Single-player']          4.99   \n",
       "1  ['Single-player', 'Multi-player', 'Online Mult...  Free To Play   \n",
       "2  ['Single-player', 'Multi-player', 'Online Mult...  Free to Play   \n",
       "3                                  ['Single-player']          0.99   \n",
       "\n",
       "   early_access      id         developer  \n",
       "0         False  761140         Kotoshiro  \n",
       "1         False  643980  Secret Level SRL  \n",
       "2         False  670290      Poolians.com  \n",
       "3         False  767400              彼岸领域  "
      ]
     },
     "execution_count": 26,
     "metadata": {},
     "output_type": "execute_result"
    }
   ],
   "source": [
    "games=pd.read_csv(\"datasets/steam_games.csv\",sep=\";\")\n",
    "games[:4]"
   ]
  },
  {
   "cell_type": "code",
   "execution_count": 27,
   "metadata": {},
   "outputs": [
    {
     "data": {
      "text/plain": [
       "publisher       19\n",
       "genres           0\n",
       "app_name         0\n",
       "title            0\n",
       "url              0\n",
       "release_date     0\n",
       "tags             0\n",
       "reviews_url      0\n",
       "specs            0\n",
       "price            0\n",
       "early_access     0\n",
       "id               0\n",
       "developer        0\n",
       "dtype: int64"
      ]
     },
     "execution_count": 27,
     "metadata": {},
     "output_type": "execute_result"
    }
   ],
   "source": [
    "games.isna().sum()"
   ]
  },
  {
   "cell_type": "markdown",
   "metadata": {},
   "source": [
    "vemos que hay varios duplicados, estos los vamos a eliminar, no son de utilidad y afecta al analisis que se va a hacer mas adelante"
   ]
  },
  {
   "cell_type": "code",
   "execution_count": 28,
   "metadata": {},
   "outputs": [
    {
     "data": {
      "text/plain": [
       "22530"
      ]
     },
     "execution_count": 28,
     "metadata": {},
     "output_type": "execute_result"
    }
   ],
   "source": [
    "len(games.duplicated())"
   ]
  },
  {
   "cell_type": "code",
   "execution_count": 29,
   "metadata": {},
   "outputs": [],
   "source": [
    "games.drop_duplicates(inplace=True)"
   ]
  },
  {
   "cell_type": "markdown",
   "metadata": {},
   "source": [
    "con respecto a las columnas Unnamed: 0, publisher y developer van a ser eliminas ya que no tienen ningun papel en las funciones de la api"
   ]
  },
  {
   "cell_type": "code",
   "execution_count": 30,
   "metadata": {},
   "outputs": [],
   "source": [
    "games.drop(columns=[\"publisher\",\"url\",\"reviews_url\",\"early_access\"],inplace=True)"
   ]
  },
  {
   "cell_type": "markdown",
   "metadata": {},
   "source": [
    "en la vista de la tabla podemos ver que app_name y title son iguales, veamos si pasa en todos los registros\n",
    "\n",
    "y resultaron ser varios los registros que no son iguales"
   ]
  },
  {
   "cell_type": "code",
   "execution_count": 31,
   "metadata": {},
   "outputs": [
    {
     "data": {
      "text/plain": [
       "351"
      ]
     },
     "execution_count": 31,
     "metadata": {},
     "output_type": "execute_result"
    }
   ],
   "source": [
    "mask=games[\"app_name\"]!=games[\"title\"]\n",
    "len(games[mask])"
   ]
  },
  {
   "cell_type": "markdown",
   "metadata": {},
   "source": [
    "viendo las diferencias se puede notar que la unica diferencia que hay entre ambas es que cuando aparece el caracter & en app_name, en title es \"&amp;\", se va a acambiar este por & en title "
   ]
  },
  {
   "cell_type": "code",
   "execution_count": 32,
   "metadata": {},
   "outputs": [
    {
     "data": {
      "text/html": [
       "<div>\n",
       "<style scoped>\n",
       "    .dataframe tbody tr th:only-of-type {\n",
       "        vertical-align: middle;\n",
       "    }\n",
       "\n",
       "    .dataframe tbody tr th {\n",
       "        vertical-align: top;\n",
       "    }\n",
       "\n",
       "    .dataframe thead th {\n",
       "        text-align: right;\n",
       "    }\n",
       "</style>\n",
       "<table border=\"1\" class=\"dataframe\">\n",
       "  <thead>\n",
       "    <tr style=\"text-align: right;\">\n",
       "      <th></th>\n",
       "      <th>app_name</th>\n",
       "      <th>title</th>\n",
       "    </tr>\n",
       "  </thead>\n",
       "  <tbody>\n",
       "    <tr>\n",
       "      <th>54</th>\n",
       "      <td>Sam &amp; Max 101: Culture Shock</td>\n",
       "      <td>Sam &amp;amp; Max 101: Culture Shock</td>\n",
       "    </tr>\n",
       "    <tr>\n",
       "      <th>56</th>\n",
       "      <td>Sam &amp; Max 102: Situation: Comedy</td>\n",
       "      <td>Sam &amp;amp; Max 102: Situation: Comedy</td>\n",
       "    </tr>\n",
       "    <tr>\n",
       "      <th>80</th>\n",
       "      <td>Command &amp; Conquer: Red Alert 3</td>\n",
       "      <td>Command &amp;amp; Conquer: Red Alert 3</td>\n",
       "    </tr>\n",
       "    <tr>\n",
       "      <th>149</th>\n",
       "      <td>Heroes of Might &amp; Magic V: Hammers of Fate</td>\n",
       "      <td>Heroes of Might &amp;amp; Magic V: Hammers of Fate</td>\n",
       "    </tr>\n",
       "    <tr>\n",
       "      <th>151</th>\n",
       "      <td>Heroes of Might &amp; Magic V: Tribes of the East</td>\n",
       "      <td>Heroes of Might &amp;amp; Magic V: Tribes of the East</td>\n",
       "    </tr>\n",
       "    <tr>\n",
       "      <th>...</th>\n",
       "      <td>...</td>\n",
       "      <td>...</td>\n",
       "    </tr>\n",
       "    <tr>\n",
       "      <th>22342</th>\n",
       "      <td>Sam &amp; Max 105: Reality 2.0</td>\n",
       "      <td>Sam &amp;amp; Max 105: Reality 2.0</td>\n",
       "    </tr>\n",
       "    <tr>\n",
       "      <th>22343</th>\n",
       "      <td>Sam &amp; Max 104: Abe Lincoln Must Die!</td>\n",
       "      <td>Sam &amp;amp; Max 104: Abe Lincoln Must Die!</td>\n",
       "    </tr>\n",
       "    <tr>\n",
       "      <th>22344</th>\n",
       "      <td>Sam &amp; Max 106: Bright Side of the Moon</td>\n",
       "      <td>Sam &amp;amp; Max 106: Bright Side of the Moon</td>\n",
       "    </tr>\n",
       "    <tr>\n",
       "      <th>22368</th>\n",
       "      <td>Making History: The Calm &amp; the Storm</td>\n",
       "      <td>Making History: The Calm &amp;amp; the Storm</td>\n",
       "    </tr>\n",
       "    <tr>\n",
       "      <th>22480</th>\n",
       "      <td>Dark Messiah of Might &amp; Magic</td>\n",
       "      <td>Dark Messiah of Might &amp;amp; Magic</td>\n",
       "    </tr>\n",
       "  </tbody>\n",
       "</table>\n",
       "<p>351 rows × 2 columns</p>\n",
       "</div>"
      ],
      "text/plain": [
       "                                            app_name  \\\n",
       "54                      Sam & Max 101: Culture Shock   \n",
       "56                  Sam & Max 102: Situation: Comedy   \n",
       "80                    Command & Conquer: Red Alert 3   \n",
       "149       Heroes of Might & Magic V: Hammers of Fate   \n",
       "151    Heroes of Might & Magic V: Tribes of the East   \n",
       "...                                              ...   \n",
       "22342                     Sam & Max 105: Reality 2.0   \n",
       "22343           Sam & Max 104: Abe Lincoln Must Die!   \n",
       "22344         Sam & Max 106: Bright Side of the Moon   \n",
       "22368           Making History: The Calm & the Storm   \n",
       "22480                  Dark Messiah of Might & Magic   \n",
       "\n",
       "                                                   title  \n",
       "54                      Sam &amp; Max 101: Culture Shock  \n",
       "56                  Sam &amp; Max 102: Situation: Comedy  \n",
       "80                    Command &amp; Conquer: Red Alert 3  \n",
       "149       Heroes of Might &amp; Magic V: Hammers of Fate  \n",
       "151    Heroes of Might &amp; Magic V: Tribes of the East  \n",
       "...                                                  ...  \n",
       "22342                     Sam &amp; Max 105: Reality 2.0  \n",
       "22343           Sam &amp; Max 104: Abe Lincoln Must Die!  \n",
       "22344         Sam &amp; Max 106: Bright Side of the Moon  \n",
       "22368           Making History: The Calm &amp; the Storm  \n",
       "22480                  Dark Messiah of Might &amp; Magic  \n",
       "\n",
       "[351 rows x 2 columns]"
      ]
     },
     "execution_count": 32,
     "metadata": {},
     "output_type": "execute_result"
    }
   ],
   "source": [
    "games[mask][[\"app_name\",\"title\"]]"
   ]
  },
  {
   "cell_type": "code",
   "execution_count": 33,
   "metadata": {},
   "outputs": [],
   "source": [
    "tab=games[mask][\"title\"].apply(lambda x:x.replace(\"&amp;\",\"&\"))\n",
    "games.loc[tab.index,\"title\"]=tab"
   ]
  },
  {
   "cell_type": "code",
   "execution_count": 34,
   "metadata": {},
   "outputs": [
    {
     "data": {
      "text/plain": [
       "5"
      ]
     },
     "execution_count": 34,
     "metadata": {},
     "output_type": "execute_result"
    }
   ],
   "source": [
    "mask=games[\"app_name\"]!=games[\"title\"]\n",
    "len(games[mask])"
   ]
  },
  {
   "cell_type": "markdown",
   "metadata": {},
   "source": [
    "ahora solo quedan 5 registros que al parecer son todos iguales menos el que dice Guild Wars® Game of the Year Edition vamos a dejar ese nombre porque es mas completo pero sin la r dentro de un circulo, de resto le inputamos los calores de app_name a title"
   ]
  },
  {
   "cell_type": "code",
   "execution_count": 35,
   "metadata": {},
   "outputs": [
    {
     "data": {
      "text/html": [
       "<div>\n",
       "<style scoped>\n",
       "    .dataframe tbody tr th:only-of-type {\n",
       "        vertical-align: middle;\n",
       "    }\n",
       "\n",
       "    .dataframe tbody tr th {\n",
       "        vertical-align: top;\n",
       "    }\n",
       "\n",
       "    .dataframe thead th {\n",
       "        text-align: right;\n",
       "    }\n",
       "</style>\n",
       "<table border=\"1\" class=\"dataframe\">\n",
       "  <thead>\n",
       "    <tr style=\"text-align: right;\">\n",
       "      <th></th>\n",
       "      <th>app_name</th>\n",
       "      <th>title</th>\n",
       "    </tr>\n",
       "  </thead>\n",
       "  <tbody>\n",
       "    <tr>\n",
       "      <th>196</th>\n",
       "      <td>Guild Wars Nightfall</td>\n",
       "      <td>Guild Wars Nightfall®</td>\n",
       "    </tr>\n",
       "    <tr>\n",
       "      <th>197</th>\n",
       "      <td>Guild Wars</td>\n",
       "      <td>Guild Wars® Game of the Year Edition</td>\n",
       "    </tr>\n",
       "    <tr>\n",
       "      <th>198</th>\n",
       "      <td>Guild Wars Factions</td>\n",
       "      <td>Guild Wars Factions®</td>\n",
       "    </tr>\n",
       "    <tr>\n",
       "      <th>7727</th>\n",
       "      <td>&gt;observer_</td>\n",
       "      <td>&amp;gt;observer_</td>\n",
       "    </tr>\n",
       "    <tr>\n",
       "      <th>12230</th>\n",
       "      <td>&gt;//:System.Hack</td>\n",
       "      <td>&amp;gt;//:System.Hack</td>\n",
       "    </tr>\n",
       "  </tbody>\n",
       "</table>\n",
       "</div>"
      ],
      "text/plain": [
       "                   app_name                                 title\n",
       "196    Guild Wars Nightfall                 Guild Wars Nightfall®\n",
       "197              Guild Wars  Guild Wars® Game of the Year Edition\n",
       "198     Guild Wars Factions                  Guild Wars Factions®\n",
       "7727             >observer_                         &gt;observer_\n",
       "12230       >//:System.Hack                    &gt;//:System.Hack"
      ]
     },
     "execution_count": 35,
     "metadata": {},
     "output_type": "execute_result"
    }
   ],
   "source": [
    "games[mask][[\"app_name\",\"title\"]]"
   ]
  },
  {
   "cell_type": "code",
   "execution_count": 36,
   "metadata": {},
   "outputs": [],
   "source": [
    "tab=games[mask][[\"app_name\",\"title\"]]\n",
    "tab.drop(197,inplace=True)\n",
    "tab[\"title\"]=tab[\"app_name\"]\n",
    "games.loc[tab.index,\"title\"]=tab\n",
    "games.loc[197,\"title\"]=\"Guild Wars Game of the Year Edition\""
   ]
  },
  {
   "cell_type": "markdown",
   "metadata": {},
   "source": [
    "bueno solo quedo uno que es diferente que es el 197\n",
    "\n",
    "vamos a tedarnos con el nombre app_name asi que vamos a asignarle a app_name los valores de title y borrar esta ultima"
   ]
  },
  {
   "cell_type": "code",
   "execution_count": 37,
   "metadata": {},
   "outputs": [
    {
     "data": {
      "text/plain": [
       "1"
      ]
     },
     "execution_count": 37,
     "metadata": {},
     "output_type": "execute_result"
    }
   ],
   "source": [
    "mask=games[\"app_name\"]!=games[\"title\"]\n",
    "len(games[mask])"
   ]
  },
  {
   "cell_type": "code",
   "execution_count": 38,
   "metadata": {},
   "outputs": [],
   "source": [
    "games[\"app_name\"]=games[\"title\"]\n",
    "games.drop(columns=[\"title\"],inplace=True)"
   ]
  },
  {
   "cell_type": "markdown",
   "metadata": {},
   "source": [
    "Una vez eliminados todos los campos que no vamos a utilizar, vamos a ver si hay lduplicados, ya que pueden surgir nuevos duplicados."
   ]
  },
  {
   "cell_type": "code",
   "execution_count": 39,
   "metadata": {},
   "outputs": [
    {
     "data": {
      "text/plain": [
       "1"
      ]
     },
     "execution_count": 39,
     "metadata": {},
     "output_type": "execute_result"
    }
   ],
   "source": [
    "games.duplicated().sum()"
   ]
  },
  {
   "cell_type": "code",
   "execution_count": 40,
   "metadata": {},
   "outputs": [],
   "source": [
    "games.drop_duplicates(inplace=True)"
   ]
  },
  {
   "cell_type": "markdown",
   "metadata": {},
   "source": [
    "hay que corregir los formatos de fecha"
   ]
  },
  {
   "cell_type": "code",
   "execution_count": 41,
   "metadata": {},
   "outputs": [
    {
     "data": {
      "text/plain": [
       "215      Jun 2009\n",
       "452      Oct 2010\n",
       "455      Oct 2010\n",
       "456      Oct 2010\n",
       "538      Feb 2011\n",
       "2204     Sep 2014\n",
       "4561     Apr 2016\n",
       "7384     Jul 2017\n",
       "9103         SOON\n",
       "10872        2018\n",
       "Name: release_date, dtype: object"
      ]
     },
     "execution_count": 41,
     "metadata": {},
     "output_type": "execute_result"
    }
   ],
   "source": [
    "mask= games[\"release_date\"].apply(lambda x:\"-\" not in x)\n",
    "games[mask][\"release_date\"][:10]"
   ]
  },
  {
   "cell_type": "code",
   "execution_count": 42,
   "metadata": {},
   "outputs": [],
   "source": [
    "from datetime import datetime\n",
    "\n",
    "def formatear(fecha):\n",
    "    try:\n",
    "        return datetime.strptime(fecha,\"%b %Y\").strftime(\"%m-%Y\")\n",
    "    except:\n",
    "        return fecha"
   ]
  },
  {
   "cell_type": "code",
   "execution_count": 43,
   "metadata": {},
   "outputs": [],
   "source": [
    "games[\"release_date\"]=games[\"release_date\"].apply(lambda x:formatear(x))"
   ]
  },
  {
   "cell_type": "code",
   "execution_count": 44,
   "metadata": {},
   "outputs": [
    {
     "data": {
      "text/plain": [
       "9103      SOON\n",
       "10872     2018\n",
       "22439    SOON™\n",
       "Name: release_date, dtype: object"
      ]
     },
     "execution_count": 44,
     "metadata": {},
     "output_type": "execute_result"
    }
   ],
   "source": [
    "mask=~games[\"release_date\"].isna()\n",
    "mask= mask & games[\"release_date\"].apply(lambda x:\"-\" not in x)\n",
    "games[mask][\"release_date\"]\n",
    "\n"
   ]
  },
  {
   "cell_type": "markdown",
   "metadata": {},
   "source": [
    "hay dos registros donde la fecha es SOON que significa verano pero pero para lo que se va hacer en la api es una informacion imprecisa por lo tanto se coloca un nulo"
   ]
  },
  {
   "cell_type": "code",
   "execution_count": 45,
   "metadata": {},
   "outputs": [],
   "source": [
    "games.at[9103,\"release_date\"]=pd.NA\n",
    "games.at[22439,\"release_date\"]=pd.NA"
   ]
  },
  {
   "cell_type": "markdown",
   "metadata": {},
   "source": [
    "a continuacion queria hacer un pequenio analisis de las columnas genres tags y specs, para eso cree una tabla nueva con esos campos y el del id del juego y su nombre.\n",
    "\n",
    "cada columna de las mencionadas tiene un string que es una lista de strings, esta listas son distintas caracteristicas que atribuyen a juego, como por ejemplo en que generos esta incluido el juego, etiquetas que describen algo mas especifico que el genero, y specs que son especificaciones de un juego. Estos campos van a ser muy importantes para el modelo de aprendizaje"
   ]
  },
  {
   "cell_type": "code",
   "execution_count": 46,
   "metadata": {},
   "outputs": [],
   "source": [
    "vista=games[[\"id\",\"app_name\",\"genres\",\"tags\",\"specs\"]]"
   ]
  },
  {
   "cell_type": "markdown",
   "metadata": {},
   "source": [
    "primero hay que hacer el cambio de formato de los strings y hacerlos listas"
   ]
  },
  {
   "cell_type": "code",
   "execution_count": 47,
   "metadata": {},
   "outputs": [],
   "source": [
    "games[\"genres\"]=vista[\"genres\"].apply(lambda x:ast.literal_eval(x))\n",
    "games[\"tags\"]=vista[\"tags\"].apply(lambda x:ast.literal_eval(x))\n",
    "games[\"specs\"]=vista[\"specs\"].apply(lambda x:ast.literal_eval(x))"
   ]
  },
  {
   "cell_type": "code",
   "execution_count": 48,
   "metadata": {},
   "outputs": [
    {
     "data": {
      "text/html": [
       "<div>\n",
       "<style scoped>\n",
       "    .dataframe tbody tr th:only-of-type {\n",
       "        vertical-align: middle;\n",
       "    }\n",
       "\n",
       "    .dataframe tbody tr th {\n",
       "        vertical-align: top;\n",
       "    }\n",
       "\n",
       "    .dataframe thead th {\n",
       "        text-align: right;\n",
       "    }\n",
       "</style>\n",
       "<table border=\"1\" class=\"dataframe\">\n",
       "  <thead>\n",
       "    <tr style=\"text-align: right;\">\n",
       "      <th></th>\n",
       "      <th>id</th>\n",
       "      <th>app_name</th>\n",
       "      <th>genres</th>\n",
       "      <th>tags</th>\n",
       "      <th>specs</th>\n",
       "    </tr>\n",
       "  </thead>\n",
       "  <tbody>\n",
       "    <tr>\n",
       "      <th>0</th>\n",
       "      <td>761140</td>\n",
       "      <td>Lost Summoner Kitty</td>\n",
       "      <td>['Action', 'Casual', 'Indie', 'Simulation', 'S...</td>\n",
       "      <td>['Strategy', 'Action', 'Indie', 'Casual', 'Sim...</td>\n",
       "      <td>['Single-player']</td>\n",
       "    </tr>\n",
       "    <tr>\n",
       "      <th>1</th>\n",
       "      <td>643980</td>\n",
       "      <td>Ironbound</td>\n",
       "      <td>['Free to Play', 'Indie', 'RPG', 'Strategy']</td>\n",
       "      <td>['Free to Play', 'Strategy', 'Indie', 'RPG', '...</td>\n",
       "      <td>['Single-player', 'Multi-player', 'Online Mult...</td>\n",
       "    </tr>\n",
       "    <tr>\n",
       "      <th>2</th>\n",
       "      <td>670290</td>\n",
       "      <td>Real Pool 3D - Poolians</td>\n",
       "      <td>['Casual', 'Free to Play', 'Indie', 'Simulatio...</td>\n",
       "      <td>['Free to Play', 'Simulation', 'Sports', 'Casu...</td>\n",
       "      <td>['Single-player', 'Multi-player', 'Online Mult...</td>\n",
       "    </tr>\n",
       "  </tbody>\n",
       "</table>\n",
       "</div>"
      ],
      "text/plain": [
       "       id                 app_name  \\\n",
       "0  761140      Lost Summoner Kitty   \n",
       "1  643980                Ironbound   \n",
       "2  670290  Real Pool 3D - Poolians   \n",
       "\n",
       "                                              genres  \\\n",
       "0  ['Action', 'Casual', 'Indie', 'Simulation', 'S...   \n",
       "1       ['Free to Play', 'Indie', 'RPG', 'Strategy']   \n",
       "2  ['Casual', 'Free to Play', 'Indie', 'Simulatio...   \n",
       "\n",
       "                                                tags  \\\n",
       "0  ['Strategy', 'Action', 'Indie', 'Casual', 'Sim...   \n",
       "1  ['Free to Play', 'Strategy', 'Indie', 'RPG', '...   \n",
       "2  ['Free to Play', 'Simulation', 'Sports', 'Casu...   \n",
       "\n",
       "                                               specs  \n",
       "0                                  ['Single-player']  \n",
       "1  ['Single-player', 'Multi-player', 'Online Mult...  \n",
       "2  ['Single-player', 'Multi-player', 'Online Mult...  "
      ]
     },
     "execution_count": 48,
     "metadata": {},
     "output_type": "execute_result"
    }
   ],
   "source": [
    "vista[:3]"
   ]
  },
  {
   "cell_type": "markdown",
   "metadata": {},
   "source": [
    "vamos a crear una funcion que cree una tabla con las ocurrencias de los distintos valores de cada campo, para eso se tiene que hacer 3 tablas que cada una corresponde a cada campo"
   ]
  },
  {
   "cell_type": "code",
   "execution_count": 49,
   "metadata": {},
   "outputs": [],
   "source": [
    "def armar_tabla(campo,nuevo_campo):\n",
    "    unicos=[]\n",
    "    for i in games.index:\n",
    "        lista=games.at[i,campo]\n",
    "        for valor in lista:\n",
    "            if valor not in unicos:\n",
    "                unicos.append(valor)    \n",
    "\n",
    "    dicc={}\n",
    "    for n in unicos:\n",
    "        dicc[n]=0\n",
    "\n",
    "    for i in games.index:\n",
    "        lista=games.at[i,campo]\n",
    "        for valor in lista:\n",
    "            dicc[valor]+=1\n",
    "\n",
    "    return pd.DataFrame({nuevo_campo:list(dicc.keys()),\"cantidad\":(dicc[n] for n in dicc)})\n",
    "\n",
    "specs=armar_tabla(\"specs\",\"especificaciones\")\n",
    "genres=armar_tabla(\"genres\",\"generos\")\n",
    "tags=armar_tabla(\"tags\",\"etiquetas\")"
   ]
  },
  {
   "cell_type": "code",
   "execution_count": 50,
   "metadata": {},
   "outputs": [
    {
     "data": {
      "text/html": [
       "<div>\n",
       "<style scoped>\n",
       "    .dataframe tbody tr th:only-of-type {\n",
       "        vertical-align: middle;\n",
       "    }\n",
       "\n",
       "    .dataframe tbody tr th {\n",
       "        vertical-align: top;\n",
       "    }\n",
       "\n",
       "    .dataframe thead th {\n",
       "        text-align: right;\n",
       "    }\n",
       "</style>\n",
       "<table border=\"1\" class=\"dataframe\">\n",
       "  <thead>\n",
       "    <tr style=\"text-align: right;\">\n",
       "      <th></th>\n",
       "      <th>generos</th>\n",
       "      <th>cantidad</th>\n",
       "    </tr>\n",
       "  </thead>\n",
       "  <tbody>\n",
       "    <tr>\n",
       "      <th>0</th>\n",
       "      <td>Action</td>\n",
       "      <td>9429</td>\n",
       "    </tr>\n",
       "    <tr>\n",
       "      <th>1</th>\n",
       "      <td>Casual</td>\n",
       "      <td>6283</td>\n",
       "    </tr>\n",
       "    <tr>\n",
       "      <th>2</th>\n",
       "      <td>Indie</td>\n",
       "      <td>12693</td>\n",
       "    </tr>\n",
       "    <tr>\n",
       "      <th>3</th>\n",
       "      <td>Simulation</td>\n",
       "      <td>4724</td>\n",
       "    </tr>\n",
       "    <tr>\n",
       "      <th>4</th>\n",
       "      <td>Strategy</td>\n",
       "      <td>5213</td>\n",
       "    </tr>\n",
       "    <tr>\n",
       "      <th>5</th>\n",
       "      <td>Free to Play</td>\n",
       "      <td>1458</td>\n",
       "    </tr>\n",
       "    <tr>\n",
       "      <th>6</th>\n",
       "      <td>RPG</td>\n",
       "      <td>3809</td>\n",
       "    </tr>\n",
       "    <tr>\n",
       "      <th>7</th>\n",
       "      <td>Sports</td>\n",
       "      <td>1032</td>\n",
       "    </tr>\n",
       "    <tr>\n",
       "      <th>8</th>\n",
       "      <td>Adventure</td>\n",
       "      <td>7021</td>\n",
       "    </tr>\n",
       "    <tr>\n",
       "      <th>9</th>\n",
       "      <td>Racing</td>\n",
       "      <td>947</td>\n",
       "    </tr>\n",
       "    <tr>\n",
       "      <th>10</th>\n",
       "      <td>Early Access</td>\n",
       "      <td>1360</td>\n",
       "    </tr>\n",
       "    <tr>\n",
       "      <th>11</th>\n",
       "      <td>Massively Multiplayer</td>\n",
       "      <td>813</td>\n",
       "    </tr>\n",
       "    <tr>\n",
       "      <th>12</th>\n",
       "      <td>Animation &amp;amp; Modeling</td>\n",
       "      <td>83</td>\n",
       "    </tr>\n",
       "    <tr>\n",
       "      <th>13</th>\n",
       "      <td>Web Publishing</td>\n",
       "      <td>195</td>\n",
       "    </tr>\n",
       "    <tr>\n",
       "      <th>14</th>\n",
       "      <td>Education</td>\n",
       "      <td>53</td>\n",
       "    </tr>\n",
       "    <tr>\n",
       "      <th>15</th>\n",
       "      <td>Software Training</td>\n",
       "      <td>36</td>\n",
       "    </tr>\n",
       "    <tr>\n",
       "      <th>16</th>\n",
       "      <td>Utilities</td>\n",
       "      <td>139</td>\n",
       "    </tr>\n",
       "    <tr>\n",
       "      <th>17</th>\n",
       "      <td>Design &amp;amp; Illustration</td>\n",
       "      <td>264</td>\n",
       "    </tr>\n",
       "    <tr>\n",
       "      <th>18</th>\n",
       "      <td>Audio Production</td>\n",
       "      <td>30</td>\n",
       "    </tr>\n",
       "    <tr>\n",
       "      <th>19</th>\n",
       "      <td>Video Production</td>\n",
       "      <td>18</td>\n",
       "    </tr>\n",
       "    <tr>\n",
       "      <th>20</th>\n",
       "      <td>Photo Editing</td>\n",
       "      <td>11</td>\n",
       "    </tr>\n",
       "  </tbody>\n",
       "</table>\n",
       "</div>"
      ],
      "text/plain": [
       "                      generos  cantidad\n",
       "0                      Action      9429\n",
       "1                      Casual      6283\n",
       "2                       Indie     12693\n",
       "3                  Simulation      4724\n",
       "4                    Strategy      5213\n",
       "5                Free to Play      1458\n",
       "6                         RPG      3809\n",
       "7                      Sports      1032\n",
       "8                   Adventure      7021\n",
       "9                      Racing       947\n",
       "10               Early Access      1360\n",
       "11      Massively Multiplayer       813\n",
       "12   Animation &amp; Modeling        83\n",
       "13             Web Publishing       195\n",
       "14                  Education        53\n",
       "15          Software Training        36\n",
       "16                  Utilities       139\n",
       "17  Design &amp; Illustration       264\n",
       "18           Audio Production        30\n",
       "19           Video Production        18\n",
       "20              Photo Editing        11"
      ]
     },
     "execution_count": 50,
     "metadata": {},
     "output_type": "execute_result"
    }
   ],
   "source": [
    "genres"
   ]
  },
  {
   "cell_type": "markdown",
   "metadata": {},
   "source": [
    "la cantidad de etiquetas son muchisimas como para hacer un grafico o un diagrama, pero las otras no pasan de 30"
   ]
  },
  {
   "cell_type": "code",
   "execution_count": 51,
   "metadata": {},
   "outputs": [
    {
     "data": {
      "text/html": [
       "<div>\n",
       "<style scoped>\n",
       "    .dataframe tbody tr th:only-of-type {\n",
       "        vertical-align: middle;\n",
       "    }\n",
       "\n",
       "    .dataframe tbody tr th {\n",
       "        vertical-align: top;\n",
       "    }\n",
       "\n",
       "    .dataframe thead th {\n",
       "        text-align: right;\n",
       "    }\n",
       "</style>\n",
       "<table border=\"1\" class=\"dataframe\">\n",
       "  <thead>\n",
       "    <tr style=\"text-align: right;\">\n",
       "      <th></th>\n",
       "      <th>generos</th>\n",
       "      <th>cantidad</th>\n",
       "    </tr>\n",
       "  </thead>\n",
       "  <tbody>\n",
       "    <tr>\n",
       "      <th>0</th>\n",
       "      <td>Action</td>\n",
       "      <td>9429</td>\n",
       "    </tr>\n",
       "    <tr>\n",
       "      <th>1</th>\n",
       "      <td>Casual</td>\n",
       "      <td>6283</td>\n",
       "    </tr>\n",
       "    <tr>\n",
       "      <th>2</th>\n",
       "      <td>Indie</td>\n",
       "      <td>12693</td>\n",
       "    </tr>\n",
       "    <tr>\n",
       "      <th>3</th>\n",
       "      <td>Simulation</td>\n",
       "      <td>4724</td>\n",
       "    </tr>\n",
       "    <tr>\n",
       "      <th>4</th>\n",
       "      <td>Strategy</td>\n",
       "      <td>5213</td>\n",
       "    </tr>\n",
       "    <tr>\n",
       "      <th>5</th>\n",
       "      <td>Free to Play</td>\n",
       "      <td>1458</td>\n",
       "    </tr>\n",
       "    <tr>\n",
       "      <th>6</th>\n",
       "      <td>RPG</td>\n",
       "      <td>3809</td>\n",
       "    </tr>\n",
       "    <tr>\n",
       "      <th>7</th>\n",
       "      <td>Sports</td>\n",
       "      <td>1032</td>\n",
       "    </tr>\n",
       "    <tr>\n",
       "      <th>8</th>\n",
       "      <td>Adventure</td>\n",
       "      <td>7021</td>\n",
       "    </tr>\n",
       "    <tr>\n",
       "      <th>9</th>\n",
       "      <td>Racing</td>\n",
       "      <td>947</td>\n",
       "    </tr>\n",
       "    <tr>\n",
       "      <th>10</th>\n",
       "      <td>Early Access</td>\n",
       "      <td>1360</td>\n",
       "    </tr>\n",
       "    <tr>\n",
       "      <th>11</th>\n",
       "      <td>Massively Multiplayer</td>\n",
       "      <td>813</td>\n",
       "    </tr>\n",
       "    <tr>\n",
       "      <th>12</th>\n",
       "      <td>Animation &amp;amp; Modeling</td>\n",
       "      <td>83</td>\n",
       "    </tr>\n",
       "    <tr>\n",
       "      <th>13</th>\n",
       "      <td>Web Publishing</td>\n",
       "      <td>195</td>\n",
       "    </tr>\n",
       "    <tr>\n",
       "      <th>14</th>\n",
       "      <td>Education</td>\n",
       "      <td>53</td>\n",
       "    </tr>\n",
       "    <tr>\n",
       "      <th>15</th>\n",
       "      <td>Software Training</td>\n",
       "      <td>36</td>\n",
       "    </tr>\n",
       "    <tr>\n",
       "      <th>16</th>\n",
       "      <td>Utilities</td>\n",
       "      <td>139</td>\n",
       "    </tr>\n",
       "    <tr>\n",
       "      <th>17</th>\n",
       "      <td>Design &amp;amp; Illustration</td>\n",
       "      <td>264</td>\n",
       "    </tr>\n",
       "    <tr>\n",
       "      <th>18</th>\n",
       "      <td>Audio Production</td>\n",
       "      <td>30</td>\n",
       "    </tr>\n",
       "    <tr>\n",
       "      <th>19</th>\n",
       "      <td>Video Production</td>\n",
       "      <td>18</td>\n",
       "    </tr>\n",
       "    <tr>\n",
       "      <th>20</th>\n",
       "      <td>Photo Editing</td>\n",
       "      <td>11</td>\n",
       "    </tr>\n",
       "  </tbody>\n",
       "</table>\n",
       "</div>"
      ],
      "text/plain": [
       "                      generos  cantidad\n",
       "0                      Action      9429\n",
       "1                      Casual      6283\n",
       "2                       Indie     12693\n",
       "3                  Simulation      4724\n",
       "4                    Strategy      5213\n",
       "5                Free to Play      1458\n",
       "6                         RPG      3809\n",
       "7                      Sports      1032\n",
       "8                   Adventure      7021\n",
       "9                      Racing       947\n",
       "10               Early Access      1360\n",
       "11      Massively Multiplayer       813\n",
       "12   Animation &amp; Modeling        83\n",
       "13             Web Publishing       195\n",
       "14                  Education        53\n",
       "15          Software Training        36\n",
       "16                  Utilities       139\n",
       "17  Design &amp; Illustration       264\n",
       "18           Audio Production        30\n",
       "19           Video Production        18\n",
       "20              Photo Editing        11"
      ]
     },
     "metadata": {},
     "output_type": "display_data"
    },
    {
     "name": "stdout",
     "output_type": "stream",
     "text": [
      "cantidad de etiquetas:336\n"
     ]
    },
    {
     "data": {
      "text/html": [
       "<div>\n",
       "<style scoped>\n",
       "    .dataframe tbody tr th:only-of-type {\n",
       "        vertical-align: middle;\n",
       "    }\n",
       "\n",
       "    .dataframe tbody tr th {\n",
       "        vertical-align: top;\n",
       "    }\n",
       "\n",
       "    .dataframe thead th {\n",
       "        text-align: right;\n",
       "    }\n",
       "</style>\n",
       "<table border=\"1\" class=\"dataframe\">\n",
       "  <thead>\n",
       "    <tr style=\"text-align: right;\">\n",
       "      <th></th>\n",
       "      <th>especificaciones</th>\n",
       "      <th>cantidad</th>\n",
       "    </tr>\n",
       "  </thead>\n",
       "  <tbody>\n",
       "    <tr>\n",
       "      <th>0</th>\n",
       "      <td>Single-player</td>\n",
       "      <td>20995</td>\n",
       "    </tr>\n",
       "    <tr>\n",
       "      <th>1</th>\n",
       "      <td>Multi-player</td>\n",
       "      <td>5763</td>\n",
       "    </tr>\n",
       "    <tr>\n",
       "      <th>2</th>\n",
       "      <td>Online Multi-Player</td>\n",
       "      <td>1770</td>\n",
       "    </tr>\n",
       "    <tr>\n",
       "      <th>3</th>\n",
       "      <td>Cross-Platform Multiplayer</td>\n",
       "      <td>1281</td>\n",
       "    </tr>\n",
       "    <tr>\n",
       "      <th>4</th>\n",
       "      <td>Steam Achievements</td>\n",
       "      <td>12643</td>\n",
       "    </tr>\n",
       "    <tr>\n",
       "      <th>5</th>\n",
       "      <td>Steam Trading Cards</td>\n",
       "      <td>9310</td>\n",
       "    </tr>\n",
       "    <tr>\n",
       "      <th>6</th>\n",
       "      <td>In-App Purchases</td>\n",
       "      <td>707</td>\n",
       "    </tr>\n",
       "    <tr>\n",
       "      <th>7</th>\n",
       "      <td>Stats</td>\n",
       "      <td>1908</td>\n",
       "    </tr>\n",
       "    <tr>\n",
       "      <th>8</th>\n",
       "      <td>Downloadable Content</td>\n",
       "      <td>7480</td>\n",
       "    </tr>\n",
       "    <tr>\n",
       "      <th>9</th>\n",
       "      <td>Full controller support</td>\n",
       "      <td>5906</td>\n",
       "    </tr>\n",
       "    <tr>\n",
       "      <th>10</th>\n",
       "      <td>Steam Cloud</td>\n",
       "      <td>7532</td>\n",
       "    </tr>\n",
       "    <tr>\n",
       "      <th>11</th>\n",
       "      <td>Steam Leaderboards</td>\n",
       "      <td>4062</td>\n",
       "    </tr>\n",
       "    <tr>\n",
       "      <th>12</th>\n",
       "      <td>Partial Controller Support</td>\n",
       "      <td>4442</td>\n",
       "    </tr>\n",
       "    <tr>\n",
       "      <th>13</th>\n",
       "      <td>Local Co-op</td>\n",
       "      <td>632</td>\n",
       "    </tr>\n",
       "    <tr>\n",
       "      <th>14</th>\n",
       "      <td>Shared/Split Screen</td>\n",
       "      <td>2362</td>\n",
       "    </tr>\n",
       "    <tr>\n",
       "      <th>15</th>\n",
       "      <td>Valve Anti-Cheat enabled</td>\n",
       "      <td>345</td>\n",
       "    </tr>\n",
       "    <tr>\n",
       "      <th>16</th>\n",
       "      <td>Co-op</td>\n",
       "      <td>2535</td>\n",
       "    </tr>\n",
       "    <tr>\n",
       "      <th>17</th>\n",
       "      <td>Captions available</td>\n",
       "      <td>780</td>\n",
       "    </tr>\n",
       "    <tr>\n",
       "      <th>18</th>\n",
       "      <td>Steam Workshop</td>\n",
       "      <td>1448</td>\n",
       "    </tr>\n",
       "    <tr>\n",
       "      <th>19</th>\n",
       "      <td>Includes level editor</td>\n",
       "      <td>1090</td>\n",
       "    </tr>\n",
       "    <tr>\n",
       "      <th>20</th>\n",
       "      <td>Mods</td>\n",
       "      <td>8</td>\n",
       "    </tr>\n",
       "    <tr>\n",
       "      <th>21</th>\n",
       "      <td>MMO</td>\n",
       "      <td>676</td>\n",
       "    </tr>\n",
       "    <tr>\n",
       "      <th>22</th>\n",
       "      <td>Online Co-op</td>\n",
       "      <td>703</td>\n",
       "    </tr>\n",
       "    <tr>\n",
       "      <th>23</th>\n",
       "      <td>Local Multi-Player</td>\n",
       "      <td>1016</td>\n",
       "    </tr>\n",
       "    <tr>\n",
       "      <th>24</th>\n",
       "      <td>Includes Source SDK</td>\n",
       "      <td>41</td>\n",
       "    </tr>\n",
       "    <tr>\n",
       "      <th>25</th>\n",
       "      <td>Commentary available</td>\n",
       "      <td>146</td>\n",
       "    </tr>\n",
       "    <tr>\n",
       "      <th>26</th>\n",
       "      <td>Steam Turn Notifications</td>\n",
       "      <td>73</td>\n",
       "    </tr>\n",
       "    <tr>\n",
       "      <th>27</th>\n",
       "      <td>SteamVR Collectibles</td>\n",
       "      <td>1</td>\n",
       "    </tr>\n",
       "    <tr>\n",
       "      <th>28</th>\n",
       "      <td>Game demo</td>\n",
       "      <td>4</td>\n",
       "    </tr>\n",
       "    <tr>\n",
       "      <th>29</th>\n",
       "      <td>Mods (require HL2)</td>\n",
       "      <td>4</td>\n",
       "    </tr>\n",
       "  </tbody>\n",
       "</table>\n",
       "</div>"
      ],
      "text/plain": [
       "              especificaciones  cantidad\n",
       "0                Single-player     20995\n",
       "1                 Multi-player      5763\n",
       "2          Online Multi-Player      1770\n",
       "3   Cross-Platform Multiplayer      1281\n",
       "4           Steam Achievements     12643\n",
       "5          Steam Trading Cards      9310\n",
       "6             In-App Purchases       707\n",
       "7                        Stats      1908\n",
       "8         Downloadable Content      7480\n",
       "9      Full controller support      5906\n",
       "10                 Steam Cloud      7532\n",
       "11          Steam Leaderboards      4062\n",
       "12  Partial Controller Support      4442\n",
       "13                 Local Co-op       632\n",
       "14         Shared/Split Screen      2362\n",
       "15    Valve Anti-Cheat enabled       345\n",
       "16                       Co-op      2535\n",
       "17          Captions available       780\n",
       "18              Steam Workshop      1448\n",
       "19       Includes level editor      1090\n",
       "20                        Mods         8\n",
       "21                         MMO       676\n",
       "22                Online Co-op       703\n",
       "23          Local Multi-Player      1016\n",
       "24         Includes Source SDK        41\n",
       "25        Commentary available       146\n",
       "26    Steam Turn Notifications        73\n",
       "27        SteamVR Collectibles         1\n",
       "28                   Game demo         4\n",
       "29          Mods (require HL2)         4"
      ]
     },
     "metadata": {},
     "output_type": "display_data"
    }
   ],
   "source": [
    "display(genres)\n",
    "print(\"cantidad de etiquetas:\"+str(len(tags)))\n",
    "display(specs)"
   ]
  },
  {
   "cell_type": "markdown",
   "metadata": {},
   "source": [
    "a continuancion se realiza un diagrama de los generos y especificaciones con mas y menos juego en el dataset"
   ]
  },
  {
   "cell_type": "code",
   "execution_count": 52,
   "metadata": {},
   "outputs": [
    {
     "data": {
      "text/plain": [
       "<Axes: xlabel='generos'>"
      ]
     },
     "execution_count": 52,
     "metadata": {},
     "output_type": "execute_result"
    },
    {
     "data": {
      "image/png": "[encoded data removed]",
      "text/plain": [
       "<Figure size 2000x800 with 1 Axes>"
      ]
     },
     "metadata": {},
     "output_type": "display_data"
    }
   ],
   "source": [
    "genres.sort_values(by=\"cantidad\",ascending=False).plot(x=\"generos\",y=[\"cantidad\"],kind=\"bar\",figsize=(20, 8),rot=45)"
   ]
  },
  {
   "cell_type": "code",
   "execution_count": 53,
   "metadata": {},
   "outputs": [
    {
     "data": {
      "text/plain": [
       "<Axes: xlabel='especificaciones'>"
      ]
     },
     "execution_count": 53,
     "metadata": {},
     "output_type": "execute_result"
    },
    {
     "data": {
      "image/png": "[encoded data removed]",
      "text/plain": [
       "<Figure size 2000x800 with 1 Axes>"
      ]
     },
     "metadata": {},
     "output_type": "display_data"
    }
   ],
   "source": [
    "specs.sort_values(by=\"cantidad\",ascending=False).plot(x=\"especificaciones\",y=[\"cantidad\"],kind=\"bar\",figsize=(20, 8),rot=45)"
   ]
  },
  {
   "cell_type": "markdown",
   "metadata": {},
   "source": [
    "veamos los tipos de datos que quedaron el la tabla\n",
    "\n",
    "y vemos que claramente el campo price son string pero son numeros con coma"
   ]
  },
  {
   "cell_type": "code",
   "execution_count": 54,
   "metadata": {},
   "outputs": [
    {
     "name": "stdout",
     "output_type": "stream",
     "text": [
      "<class 'pandas.core.frame.DataFrame'>\n",
      "Index: 22529 entries, 0 to 22529\n",
      "Data columns (total 8 columns):\n",
      " #   Column        Non-Null Count  Dtype \n",
      "---  ------        --------------  ----- \n",
      " 0   genres        22529 non-null  object\n",
      " 1   app_name      22529 non-null  object\n",
      " 2   release_date  22527 non-null  object\n",
      " 3   tags          22529 non-null  object\n",
      " 4   specs         22529 non-null  object\n",
      " 5   price         22529 non-null  object\n",
      " 6   id            22529 non-null  int64 \n",
      " 7   developer     22529 non-null  object\n",
      "dtypes: int64(1), object(7)\n",
      "memory usage: 2.1+ MB\n"
     ]
    }
   ],
   "source": [
    "games.info()"
   ]
  },
  {
   "cell_type": "markdown",
   "metadata": {},
   "source": [
    "aqui podemos ver que los valores que no son numero son \"Free To Play\" o \"Free\" o \"Free to Play\"\n",
    "\n",
    "vamos a filtrar estos valores y luego vemos que nos queda"
   ]
  },
  {
   "cell_type": "code",
   "execution_count": 55,
   "metadata": {},
   "outputs": [
    {
     "data": {
      "text/plain": [
       "1        Free To Play\n",
       "2        Free to Play\n",
       "36               Free\n",
       "158              Free\n",
       "213              Free\n",
       "             ...     \n",
       "22421    Free to Play\n",
       "22429            Free\n",
       "22438            Free\n",
       "22504    Free To Play\n",
       "22505            Free\n",
       "Name: price, Length: 1308, dtype: object"
      ]
     },
     "execution_count": 55,
     "metadata": {},
     "output_type": "execute_result"
    }
   ],
   "source": [
    "def is_float(val):\n",
    "    try:\n",
    "        float(val)\n",
    "        return True\n",
    "    except:\n",
    "        return False\n",
    "\n",
    "mask=games[\"price\"].apply(lambda x:not is_float(x))\n",
    "games[mask][\"price\"]"
   ]
  },
  {
   "cell_type": "code",
   "execution_count": 56,
   "metadata": {},
   "outputs": [],
   "source": [
    "gratis=[\"Free\",\"Free To Play\",\"Free to Play\"]\n",
    "mask=games[\"price\"].apply(lambda x:x in gratis)\n",
    "games.loc[mask,\"price\"]=games[mask][\"price\"].apply(lambda x:0)"
   ]
  },
  {
   "cell_type": "markdown",
   "metadata": {},
   "source": [
    "estos fueron todos lo valores que quedaron, los demos no son necesariamente gratis, los demos son versiones de prueba que por lo general son gratis con el objetivo de que una cantidad de usuarios lo clasifiquen y la empresa pueda decidir que mejoras hacerle al juego si tiene mucho exito para luego sacar a la venta una version de mejor calidad, pero no siempre estas demos son gratis por lo que vamos a dar los campos nulos, pero los que contengan la palabra Free deja claro es gratis el juego, a esos valores si se les va a inputar un 0"
   ]
  },
  {
   "cell_type": "code",
   "execution_count": 57,
   "metadata": {},
   "outputs": [
    {
     "data": {
      "text/plain": [
       "832                          Free Demo\n",
       "833                          Free Demo\n",
       "870                     Play for Free!\n",
       "882                     Play for Free!\n",
       "2054                       Install Now\n",
       "2399     Play WARMACHINE: Tactics Demo\n",
       "2704                          Free Mod\n",
       "3234                          Play Now\n",
       "4320         Free HITMAN™ Holiday Pack\n",
       "9677                          Free Mod\n",
       "15419                    Play the Demo\n",
       "19314                         Free Mod\n",
       "19315                         Free Mod\n",
       "21454                        Free Demo\n",
       "22310                      Third-party\n",
       "Name: price, dtype: object"
      ]
     },
     "execution_count": 57,
     "metadata": {},
     "output_type": "execute_result"
    }
   ],
   "source": [
    "mask=games[\"price\"].apply(lambda x:not is_float(x))\n",
    "games[mask][\"price\"]"
   ]
  },
  {
   "cell_type": "code",
   "execution_count": 58,
   "metadata": {},
   "outputs": [],
   "source": [
    "def inputar(valor):\n",
    "    if \"Free\" in valor:\n",
    "        return 0\n",
    "    else:\n",
    "        return pd.NA\n",
    "    \n",
    "games.loc[mask,\"price\"]=games[mask][\"price\"].apply(lambda x:inputar(x))"
   ]
  },
  {
   "cell_type": "markdown",
   "metadata": {},
   "source": [
    "solo quedaron 5 nulos, pero no lo vamos a eliminar ya que, el precio no es un campo que se vaya a utilizar en la api pero si en el modelo asiq ue para que no hayan porblemas con los nulos vamos a asignarle -1"
   ]
  },
  {
   "cell_type": "code",
   "execution_count": 59,
   "metadata": {},
   "outputs": [
    {
     "data": {
      "text/plain": [
       "2054     <NA>\n",
       "2399     <NA>\n",
       "3234     <NA>\n",
       "15419    <NA>\n",
       "22310    <NA>\n",
       "Name: price, dtype: object"
      ]
     },
     "execution_count": 59,
     "metadata": {},
     "output_type": "execute_result"
    }
   ],
   "source": [
    "mask=games[\"price\"].apply(lambda x:not is_float(x))\n",
    "games[mask][\"price\"]"
   ]
  },
  {
   "cell_type": "markdown",
   "metadata": {},
   "source": [
    "tambien aprovechamos de convertir el formato a float"
   ]
  },
  {
   "cell_type": "markdown",
   "metadata": {},
   "source": []
  },
  {
   "cell_type": "code",
   "execution_count": 60,
   "metadata": {},
   "outputs": [],
   "source": [
    "games[\"price\"].fillna(-1,inplace=True)\n",
    "games[\"price\"]=games[\"price\"].apply(lambda x:float(x))"
   ]
  },
  {
   "cell_type": "markdown",
   "metadata": {},
   "source": [
    "luego vamos hacer rapidamente un analisis a los distintos precios que pueden tener un juego, y el promedio de estos por categoria"
   ]
  },
  {
   "cell_type": "code",
   "execution_count": 61,
   "metadata": {},
   "outputs": [],
   "source": [
    "def armar_tabla_promedios(campo,campo_nuevo):\n",
    "    unicos=[]\n",
    "    mask=games[\"price\"]!=-1\n",
    "\n",
    "    for i in games[mask].index:\n",
    "        for n in games.at[i,campo]:\n",
    "            if n not in unicos:\n",
    "                unicos.append(n)\n",
    "\n",
    "    dicc={}\n",
    "    for n in unicos:\n",
    "        mask1=mask & (games[campo].apply(lambda x:n in x))\n",
    "        dicc[n]=games[mask1][\"price\"].mean()\n",
    "\n",
    "    tab={campo_nuevo:[],\"promedio\":[]}\n",
    "    tab[campo_nuevo]=unicos\n",
    "\n",
    "    for n in unicos:\n",
    "        tab[\"promedio\"].append(dicc[n])\n",
    "\n",
    "    tab=pd.DataFrame(tab)\n",
    "    tab[campo_nuevo]=tab[campo_nuevo].apply(lambda x: x.replace(\"&amp;\",\"&\"))\n",
    "    return tab\n",
    "\n",
    "tab_generos=armar_tabla_promedios(\"genres\",\"generos\")\n",
    "tab_specs=armar_tabla_promedios(\"specs\",\"especificaciones\")"
   ]
  },
  {
   "cell_type": "markdown",
   "metadata": {},
   "source": [
    "bueno aqui graficamos el promedio de los precios de los juego por genero"
   ]
  },
  {
   "cell_type": "code",
   "execution_count": 62,
   "metadata": {},
   "outputs": [
    {
     "data": {
      "text/plain": [
       "<Axes: xlabel='generos'>"
      ]
     },
     "execution_count": 62,
     "metadata": {},
     "output_type": "execute_result"
    },
    {
     "data": {
      "image/png": "[encoded data removed]",
      "text/plain": [
       "<Figure size 2000x800 with 1 Axes>"
      ]
     },
     "metadata": {},
     "output_type": "display_data"
    }
   ],
   "source": [
    "tab_generos.sort_values(by=\"promedio\",ascending=False).plot(x=\"generos\",y=[\"promedio\"],kind=\"bar\",figsize=(20, 8),rot=45)"
   ]
  },
  {
   "cell_type": "code",
   "execution_count": 63,
   "metadata": {},
   "outputs": [
    {
     "data": {
      "text/plain": [
       "<Axes: xlabel='especificaciones'>"
      ]
     },
     "execution_count": 63,
     "metadata": {},
     "output_type": "execute_result"
    },
    {
     "data": {
      "image/png": "[encoded data removed]",
      "text/plain": [
       "<Figure size 2000x800 with 1 Axes>"
      ]
     },
     "metadata": {},
     "output_type": "display_data"
    }
   ],
   "source": [
    "tab_specs.sort_values(by=\"promedio\",ascending=False).plot(x=\"especificaciones\",y=[\"promedio\"],kind=\"bar\",figsize=(20, 8),rot=45)"
   ]
  },
  {
   "cell_type": "markdown",
   "metadata": {},
   "source": [
    "hechando un vistazo a los outliers del campo price, son bastantes, vamos a analizarlos"
   ]
  },
  {
   "cell_type": "code",
   "execution_count": 64,
   "metadata": {},
   "outputs": [
    {
     "data": {
      "image/png": "[encoded data removed]",
      "text/plain": [
       "<Figure size 640x480 with 1 Axes>"
      ]
     },
     "metadata": {},
     "output_type": "display_data"
    }
   ],
   "source": [
    "plt.boxplot(games[\"price\"])\n",
    "\n",
    "# Añadir etiquetas y título\n",
    "plt.xlabel(\"\")  #nombre de campo\n",
    "plt.ylabel(\"precios\")  #valores\n",
    "plt.title('Diagrama de Caja')\n",
    "\n",
    "# Mostrar el gráfico\n",
    "plt.show()\n"
   ]
  },
  {
   "cell_type": "markdown",
   "metadata": {},
   "source": [
    "bueno es bastante comprensible que 20 sea un outlier considerando que la mayoria de los valores son precios muy bajos."
   ]
  },
  {
   "cell_type": "code",
   "execution_count": 65,
   "metadata": {},
   "outputs": [
    {
     "name": "stdout",
     "output_type": "stream",
     "text": [
      "Número de outliers: 1361\n",
      "maximo outlier: 995.0\n",
      "minimo outlier: 20.99\n"
     ]
    }
   ],
   "source": [
    "Q1 = games[\"price\"].quantile(0.25)\n",
    "Q3 = games[\"price\"].quantile(0.75)\n",
    "IQR = Q3 - Q1\n",
    "\n",
    "# Definir límites para identificar outliers\n",
    "limite_inferior = Q1 - 1.5 * IQR\n",
    "limite_superior = Q3 + 1.5 * IQR\n",
    "\n",
    "# Identificar outliers\n",
    "outliers = games[(games[\"price\"] < limite_inferior) | (games[\"price\"] > limite_superior)]\n",
    "\n",
    "#pd.set_option('display.max_rows', None)\n",
    "\n",
    "# Imprimir los outliers\n",
    "print(\"Número de outliers:\", len(outliers))\n",
    "print(\"maximo outlier: \"+str(outliers[\"price\"].max()))\n",
    "print(\"minimo outlier: \"+str(outliers[\"price\"].min()))\n",
    "\n",
    "#pd.reset_option('display.max_rows')"
   ]
  },
  {
   "cell_type": "code",
   "execution_count": 66,
   "metadata": {},
   "outputs": [
    {
     "data": {
      "image/png": "[encoded data removed]",
      "text/plain": [
       "<Figure size 640x480 with 1 Axes>"
      ]
     },
     "metadata": {},
     "output_type": "display_data"
    }
   ],
   "source": [
    "plt.scatter(games[\"id\"],games[\"price\"])\n",
    "\n",
    "plt.xticks(rotation=45, ha='right')\n",
    "\n",
    "# Añadir etiquetas y título\n",
    "plt.ylabel('precios')\n",
    "plt.title('Diagrama de Dispersión')\n",
    "\n",
    "# Mostrar el diagrama\n",
    "plt.show()"
   ]
  },
  {
   "cell_type": "markdown",
   "metadata": {},
   "source": [
    "estos son los precios mas altos, y los precios se hacen muy raros cuando llegan a 400, y hacen mucho ruido los que cuestan 995 y 771, aunque pueda parecer falso he investigado que han existido juegos que tienen ese precio, y que puede llegar a tenerlo, pero no es comun que se encuentren juegos."
   ]
  },
  {
   "cell_type": "code",
   "execution_count": 67,
   "metadata": {},
   "outputs": [
    {
     "data": {
      "text/plain": [
       "8452     995.00\n",
       "2046     771.71\n",
       "9917     499.99\n",
       "12290    499.99\n",
       "6447     399.99\n",
       "6448     399.99\n",
       "3523     299.99\n",
       "20292    299.99\n",
       "18291    289.99\n",
       "12289    249.99\n",
       "10670    202.76\n",
       "Name: price, dtype: float64"
      ]
     },
     "execution_count": 67,
     "metadata": {},
     "output_type": "execute_result"
    }
   ],
   "source": [
    "mask=outliers[\"price\"]>200\n",
    "outliers[mask][\"price\"].sort_values(ascending=False)"
   ]
  },
  {
   "cell_type": "markdown",
   "metadata": {},
   "source": [
    "dando por finalizado el EDA guardamos los archivos con exactamente el mismo nombre, y empezar a continuacion con con las funciones de la api"
   ]
  },
  {
   "cell_type": "code",
   "execution_count": 68,
   "metadata": {},
   "outputs": [
    {
     "data": {
      "text/plain": [
       "'porcentaje=0.85\\n\\nindices_items=random.sample(list(items.index),int(len(items)*porcentaje))\\nindices_items.sort()\\nindices_reviews=random.sample(list(reviews.index),int(len(reviews)*porcentaje))\\nindices_reviews.sort()\\nindices_games=random.sample(list(games.index),int(len(games)*porcentaje))\\nindices_games.sort()'"
      ]
     },
     "execution_count": 68,
     "metadata": {},
     "output_type": "execute_result"
    }
   ],
   "source": [
    "porcentaje=0.85\n",
    "\n",
    "indices_items=random.sample(list(items.index),int(len(items)*porcentaje))\n",
    "indices_items.sort()\n",
    "indices_reviews=random.sample(list(reviews.index),int(len(reviews)*porcentaje))\n",
    "indices_reviews.sort()\n",
    "indices_games=random.sample(list(games.index),int(len(games)*porcentaje))\n",
    "indices_games.sort()"
   ]
  },
  {
   "cell_type": "code",
   "execution_count": 69,
   "metadata": {},
   "outputs": [
    {
     "data": {
      "text/plain": [
       "'items.drop(index=indices_items,inplace=True)\\nreviews.drop(index=indices_reviews,inplace=True)\\ngames.drop(index=indices_games,inplace=True)'"
      ]
     },
     "execution_count": 69,
     "metadata": {},
     "output_type": "execute_result"
    }
   ],
   "source": [
    "items.drop(index=indices_items,inplace=True)\n",
    "reviews.drop(index=indices_reviews,inplace=True)\n",
    "games.drop(index=indices_games,inplace=True)"
   ]
  },
  {
   "cell_type": "code",
   "execution_count": 70,
   "metadata": {},
   "outputs": [
    {
     "data": {
      "text/plain": [
       "'items.to_parquet(\"deploy/datasets/users_items.parquet\")\\nreviews.to_csv(\"deploy/datasets/user_reviews.csv\",sep=\";\")\\ngames.to_csv(\"deploy/datasets/steam_games.csv\",sep=\";\")'"
      ]
     },
     "execution_count": 70,
     "metadata": {},
     "output_type": "execute_result"
    }
   ],
   "source": [
    "items.to_parquet(\"deploy/datasets/users_items.parquet\")\n",
    "reviews.to_csv(\"deploy/datasets/user_reviews.csv\",sep=\";\")\n",
    "games.to_csv(\"deploy/datasets/steam_games.csv\",sep=\";\")"
   ]
  }
 ],
 "metadata": {
  "kernelspec": {
   "display_name": "Python 3",
   "language": "python",
   "name": "python3"
  },
  "language_info": {
   "codemirror_mode": {
    "name": "ipython",
    "version": 3
   },
   "file_extension": ".py",
   "mimetype": "text/x-python",
   "name": "python",
   "nbconvert_exporter": "python",
   "pygments_lexer": "ipython3",
   "version": "3.11.4"
  }
 },
 "nbformat": 4,
 "nbformat_minor": 2
}
